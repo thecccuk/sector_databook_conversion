{
 "cells": [
  {
   "cell_type": "markdown",
   "metadata": {},
   "source": [
    "# Setup\n",
    "\n",
    "This is a notebook which converts NZIP model outputs into the CB7 Sector Databook.\n",
    "If you are unfamiliar with Jupyter notebooks, have a look at the following links [1](https://colab.research.google.com/drive/16pBJQePbqkz3QFV54L4NIkOn1kwpuRrj), [2](https://jupyter-notebook-beginner-guide.readthedocs.io/en/latest/what_is_jupyter.html), [3](https://colab.research.google.com/?utm_source=scs-index).\n",
    "\n",
    "[**Open in colab**](https://colab.research.google.com/github/thecccuk/sector_databook_conversion/blob/main/nzip/nb.ipynb)\n",
    "\n",
    "If you are running from Colab, you first need to download some files from the [CCC GitHub repo](https://github.com/thecccuk/sector_databook_conversion/tree/main/nzip) and install some packages:"
   ]
  },
  {
   "cell_type": "code",
   "execution_count": null,
   "metadata": {},
   "outputs": [],
   "source": [
    "colab = True # change to False if running on your local machine, or True if running on colab\n",
    "\n",
    "# only run on colab!\n",
    "if colab:\n",
    "    get_ipython().system('wget -q https://raw.githubusercontent.com/thecccuk/sector_databook_conversion/main/nzip/nzip.py -O nzip.py')\n",
    "    get_ipython().system('wget -q https://raw.githubusercontent.com/thecccuk/sector_databook_conversion/main/nzip/nzip_model_sector_map.csv -O nzip_model_sector_map.csv')\n",
    "    get_ipython().system('wget -q https://raw.githubusercontent.com/thecccuk/sector_databook_conversion/main/nzip/requirements.txt -O requirements.txt')\n",
    "    get_ipython().system('pip install -q -r requirements.txt')"
   ]
  },
  {
   "cell_type": "markdown",
   "metadata": {},
   "source": [
    "Next we need to import the nzip module (that we just downloaded) and the pandas module (which is already installed in the colab runtime)."
   ]
  },
  {
   "cell_type": "code",
   "execution_count": null,
   "metadata": {},
   "outputs": [],
   "source": [
    "%load_ext autoreload\n",
    "%autoreload 2\n",
    "\n",
    "# imports\n",
    "import pandas as pd\n",
    "import nzip\n",
    "\n",
    "# ignore some junk output\n",
    "import warnings\n",
    "warnings.simplefilter(action='ignore', category=pd.errors.PerformanceWarning)"
   ]
  },
  {
   "cell_type": "markdown",
   "metadata": {},
   "source": [
    "### Load data\n",
    "\n",
    "In the following block we set some parameters for the conversion."
   ]
  },
  {
   "cell_type": "code",
   "execution_count": null,
   "metadata": {},
   "outputs": [],
   "source": [
    "# NZIP sectors are 'Industry' or 'Fuel Supply'\n",
    "sector = 'Industry'\n",
    "\n",
    "# path to a local NZIP model run. If you are running on colab, this variable will be overwritten when you upload a file in the next code cell\n",
    "nzip_path = 'N-ZIP-Model_version1_2_AG_updated_19_12_2023.xlsb'\n",
    "\n",
    "# filename of the csv which maps NZIP sectors to CCC sectors\n",
    "sector_defs_path = 'nzip_model_sector_map.csv'\n",
    "\n",
    "# where to save the output file\n",
    "output_file = 'sd-industry-test.xlsx'"
   ]
  },
  {
   "cell_type": "markdown",
   "metadata": {},
   "source": [
    "When running on google colab, we need to upload the NZIP model outputs you want to convert.\n",
    "Running the following cell will produce a button that will let you upload a file from your local machine.\n",
    "At the moment this is annoyingly slow - maybe converting NZIP outputs to CSV would help?"
   ]
  },
  {
   "cell_type": "code",
   "execution_count": null,
   "metadata": {},
   "outputs": [],
   "source": [
    "if colab:\n",
    "    from google.colab import files\n",
    "    uploaded = files.upload()\n",
    "    assert len(uploaded) == 1, 'You must upload exactly one file, which should be the NZIP model outputs file'\n",
    "    nzip_path = list(uploaded.keys())[0]"
   ]
  },
  {
   "cell_type": "markdown",
   "metadata": {},
   "source": [
    "After uploading, we can read the Excel file to a pandas dataframe.\n",
    "This is also annoyingly slow (2-3 mins) and would be much faster with a CSV."
   ]
  },
  {
   "cell_type": "code",
   "execution_count": null,
   "metadata": {},
   "outputs": [],
   "source": [
    "# load the nzip data and add some columns as intermediate calculations\n",
    "df = nzip.load_nzip(nzip_path, sector_defs_path, sector)\n",
    "df = nzip.add_cols(df.copy())"
   ]
  },
  {
   "cell_type": "markdown",
   "metadata": {},
   "source": [
    "### Measure level data\n",
    "\n",
    "The cell below this one contains the configuration for process the different measure level outputs. Each list element is a dictionary with the following keys:\n",
    "\n",
    "- `timeseries`: the name of the NZIP columns that contain the relevant data, with the year removed\n",
    "- `variable_name`: the name of the variable in the CB7 Sector Databook\n",
    "- `variable_unit`: the unit of the variable in the CB7 Sector Databook\n",
    "- `weight_col`: if specified, the code will look for a NZIP column with this name and use it to weight the timeseries data\n",
    "- `scale`: if specified, this will apply a fixed scaling factor to the timeseries data\n",
    "\n",
    "Each dictionary will be processed in turn, and the resulting tables will be appended together."
   ]
  },
  {
   "cell_type": "code",
   "execution_count": null,
   "metadata": {},
   "outputs": [],
   "source": [
    "measure_level_kwargs = [\n",
    "    # Add total direct and indirect emissions\n",
    "    {\n",
    "        \"timeseries\": \"Total direct emissions abated (MtCO2e)\",\n",
    "        \"variable_name\": \"Abatement total direct\",\n",
    "        \"variable_unit\": \"MtCO2e\",\n",
    "    },\n",
    "    {\n",
    "        \"timeseries\": \"Total indirect emissions abated (MtCO2e)\",\n",
    "        \"variable_name\": \"Abatement total indirect\",\n",
    "        \"variable_unit\": \"MtCO2e\",\n",
    "    },\n",
    "\n",
    "    # Add emissions by gas\n",
    "    {\n",
    "        \"timeseries\": \"Total direct emissions abated (MtCO2e)\",\n",
    "        \"variable_name\": \"Abatement emissions CO2\",\n",
    "        \"variable_unit\": \"MtCO2\",\n",
    "        \"weight_col\": \"% CARBON Emissions\",\n",
    "    },\n",
    "    {\n",
    "        \"timeseries\": \"Total direct emissions abated (MtCO2e)\",\n",
    "        \"variable_name\": \"Abatement emissions CH4\",\n",
    "        \"variable_unit\": \"MtCO2e\",\n",
    "        \"weight_col\": \"% CH4 Emissions\",\n",
    "    },\n",
    "    {\n",
    "        \"timeseries\": \"Total direct emissions abated (MtCO2e)\",\n",
    "        \"variable_name\": \"Abatement emissions N20\",\n",
    "        \"variable_unit\": \"MtCO2e\",\n",
    "        \"weight_col\": \"% N2O Emissions\",\n",
    "    },\n",
    "\n",
    "    # Add demand\n",
    "    {\n",
    "        \"timeseries\": \"Change in electricity use (GWh)\",\n",
    "        \"variable_name\": \"Additional demand electricity\",\n",
    "        \"variable_unit\": \"TWh\",\n",
    "        \"scale\": 1e-3,\n",
    "    },\n",
    "    {\n",
    "        \"timeseries\": \"Change in natural gas use (GWh)\",\n",
    "        \"variable_name\": \"Additional demand gas\",\n",
    "        \"variable_unit\": \"TWh\",\n",
    "        \"scale\": 1e-3,\n",
    "    },\n",
    "    {\n",
    "        \"timeseries\": \"Change in petroleum use (GWh)\",\n",
    "        \"variable_name\": \"Additional demand petroleum\",\n",
    "        \"variable_unit\": \"TWh\",\n",
    "        \"scale\": 1e-3,\n",
    "    },\n",
    "    {\n",
    "        \"timeseries\": \"Change in solid fuel use (GWh)\",\n",
    "        \"variable_name\": \"Additional demand solid fuel\",\n",
    "        \"variable_unit\": \"TWh\",\n",
    "        \"scale\": 1e-3,\n",
    "    },\n",
    "    {\n",
    "        \"timeseries\": \"Change in primary bioenergy use (GWh)\",\n",
    "        \"variable_name\": \"Additional demand final bioenergy\",\n",
    "        \"variable_unit\": \"TWh\",\n",
    "        \"scale\": 1e-3,\n",
    "    },\n",
    "    {\n",
    "        \"timeseries\": \"Change in hydrogen use (GWh)\",\n",
    "        \"variable_name\": \"Additional demand hydrogen\",\n",
    "        \"variable_unit\": \"TWh\",\n",
    "        \"scale\": 1e-3,\n",
    "    },\n",
    "    {\n",
    "        \"timeseries\": \"Change in non bio waste\",\n",
    "        \"variable_name\": \"Additional demand final non-bio waste\",\n",
    "        \"variable_unit\": \"TWh\",\n",
    "        \"scale\": 1e-3,\n",
    "    },\n",
    "\n",
    "    # Add capex and opex\n",
    "    {\n",
    "        \"timeseries\": \"capex\",\n",
    "        \"variable_name\": \"Additional capital expenditure\",\n",
    "        \"variable_unit\": \"£m\",\n",
    "    },\n",
    "    {\n",
    "        \"timeseries\": \"AM levelised capex (£m)\",\n",
    "        \"variable_name\": \"Additional capital expenditure annualised\",\n",
    "        \"variable_unit\": \"£m\",\n",
    "    },\n",
    "    {\n",
    "        \"timeseries\": \"capex low carbon\",\n",
    "        \"variable_name\": \"Total capital expenditure low carbon\",\n",
    "        \"variable_unit\": \"£m\",\n",
    "    },\n",
    "    {\n",
    "        \"timeseries\": \"opex\",\n",
    "        \"variable_name\": \"Additional operating expenditure\",\n",
    "        \"variable_unit\": \"£m\",\n",
    "    },\n",
    "    {\n",
    "        \"timeseries\": \"opex low carbon\",\n",
    "        \"variable_name\": \"Total operating expenditure low carbon\",\n",
    "        \"variable_unit\": \"£m\",\n",
    "    },\n",
    "\n",
    "    # CCS\n",
    "    {\n",
    "        \"timeseries\": \"Tonnes of CO2 captured (MtCO2)\",\n",
    "        \"variable_name\": \"Additional CCS\",\n",
    "        \"variable_unit\": \"MtCO2\",\n",
    "    },\n",
    "\n",
    "    # these are intermediate variables\n",
    "    {\n",
    "        \"timeseries\": \"total emissions abated\",\n",
    "        \"variable_name\": \"total emissions abated\",\n",
    "        \"variable_unit\": \"MtCO2e\",\n",
    "    },\n",
    "    {\n",
    "        \"timeseries\": \"cost differential\",\n",
    "        \"variable_name\": \"cost differential\",\n",
    "        \"variable_unit\": \"£m\",\n",
    "    },\n",
    "    {\n",
    "        \"timeseries\": \"cum total emissions abated\",\n",
    "        \"variable_name\": \"cum total emissions abated\",\n",
    "        \"variable_unit\": \"MtCO2e\",\n",
    "    },\n",
    "    {\n",
    "        \"timeseries\": \"cum cost differential\",\n",
    "        \"variable_name\": \"cum cost differential\",\n",
    "        \"variable_unit\": \"£m\",\n",
    "    },\n",
    "]"
   ]
  },
  {
   "cell_type": "markdown",
   "metadata": {},
   "source": [
    "We have to process the REEE measures differently because they do not follow the same output format as the other measures.\n",
    "\n",
    "For now we are using the abatement EE fraction to compute all the variables."
   ]
  },
  {
   "cell_type": "code",
   "execution_count": null,
   "metadata": {},
   "outputs": [],
   "source": [
    "reee_kwargs = [\n",
    "    {\n",
    "        \"baseline_col\": \"Baseline emissions (MtCO2e)\",\n",
    "        \"post_reee_col\": \"Post REEE baseline emissions (MtCO2e)\",\n",
    "        \"out_col\": \"Abatement emissions CO2\",\n",
    "        \"variable_unit\": \"MtCO2\",\n",
    "    },\n",
    "    {\n",
    "        \"baseline_col\": \"Baseline electricity use (GWh)\",\n",
    "        \"post_reee_col\": \"Post REEE baseline electricity use (GWh)\",\n",
    "        \"out_col\": \"Additional demand electricity\",\n",
    "        \"variable_unit\": \"TWh\",\n",
    "        \"scale\": 1e-3,\n",
    "    },\n",
    "    {\n",
    "        \"baseline_col\": \"Baseline in natural gas use (GWh)\",\n",
    "        \"post_reee_col\": \"Post REEE baseline in natural gas use (GWh)\",\n",
    "        \"out_col\": \"Additional demand gas\",\n",
    "        \"variable_unit\": \"TWh\",\n",
    "        \"scale\": 1e-3,\n",
    "    },\n",
    "    {\n",
    "        \"baseline_col\": \"Baseline in petroleum use (GWh)\",\n",
    "        \"post_reee_col\": \"Post REEE baseline in petroleum use (GWh)\",\n",
    "        \"out_col\": \"Additional demand petroleum\",\n",
    "        \"variable_unit\": \"TWh\",\n",
    "        \"scale\": 1e-3,\n",
    "    },\n",
    "    {\n",
    "        \"baseline_col\": \"Baseline in solid fuel use (GWh)\",\n",
    "        \"post_reee_col\": \"Post REEE baseline in solid fuel use (GWh)\",\n",
    "        \"out_col\": \"Additional demand solid fuel\",\n",
    "        \"variable_unit\": \"TWh\",\n",
    "        \"scale\": 1e-3,\n",
    "    },\n",
    "]"
   ]
  },
  {
   "cell_type": "markdown",
   "metadata": {},
   "source": [
    "Now we have defined the configuration, we can process the data and write the outputs to excel"
   ]
  },
  {
   "cell_type": "code",
   "execution_count": null,
   "metadata": {},
   "outputs": [],
   "source": [
    "# write out the measure level data for this pathway\n",
    "sd_df = nzip.sd_measure_level(df.copy(), measure_level_kwargs, reee_kwargs, nzip_path=nzip_path, baseline=False)\n",
    "sd_df.to_excel(output_file, index=False, sheet_name='BP Measure level data')"
   ]
  },
  {
   "cell_type": "code",
   "execution_count": null,
   "metadata": {},
   "outputs": [],
   "source": [
    "# write a sheet containing the measure definitions\n",
    "measure_defs_df = pd.DataFrame({\n",
    "    'Sector': pd.Series(sd_df['Sector'].unique()).sort_values(),\n",
    "    'Subsector': pd.Series(sd_df['Subsector'].unique()).sort_values(),\n",
    "    'Measure Name': pd.Series(sd_df['Measure Name'].unique()).sort_values(),\n",
    "    **{f'Category{i+3}: {category}': pd.Series(sd_df[f'Category{i+3}: {category}'].unique()).sort_values() for i, category in enumerate(nzip.CATEGORIES)}\n",
    "})\n",
    "with pd.ExcelWriter(output_file, mode='a', if_sheet_exists='replace') as writer:\n",
    "    measure_defs_df.to_excel(writer, index=False, sheet_name='Measure definitions')\n"
   ]
  },
  {
   "cell_type": "markdown",
   "metadata": {},
   "source": [
    "### Baseline pathway\n",
    "\n",
    "Now we have computed the measure level sector databook outputs, we can compute the baseline pathway in a similar fashion."
   ]
  },
  {
   "cell_type": "code",
   "execution_count": null,
   "metadata": {},
   "outputs": [],
   "source": [
    "baseline_kwargs = [\n",
    "    {\n",
    "        \"timeseries\": \"Baseline emissions (MtCO2e)\",\n",
    "        \"variable_name\": \"Baseline emissions CO2\",\n",
    "        \"variable_unit\": \"MtCO2\",\n",
    "        \"weight_col\": \"% CARBON Emissions\",\n",
    "    },\n",
    "    {\n",
    "        \"timeseries\": \"Baseline emissions (MtCO2e)\",\n",
    "        \"variable_name\": \"Baseline emissions CH4\",\n",
    "        \"variable_unit\": \"MtCO2e\",\n",
    "        \"weight_col\": \"% CH4 Emissions\",\n",
    "    },\n",
    "    {\n",
    "        \"timeseries\": \"Baseline emissions (MtCO2e)\",\n",
    "        \"variable_name\": \"Baseline emissions N20\",\n",
    "        \"variable_unit\": \"MtCO2e\",\n",
    "        \"weight_col\": \"% N2O Emissions\",\n",
    "    },\n",
    "    {\n",
    "        \"timeseries\": \"Baseline electricity use (GWh)\",\n",
    "        \"variable_name\": \"Baseline demand electricity\",\n",
    "        \"variable_unit\": \"TWh\",\n",
    "        \"scale\": 1e-3,\n",
    "    },\n",
    "    {\n",
    "        \"timeseries\": \"Baseline in natural gas use (GWh)\",\n",
    "        \"variable_name\": \"Baseline demand gas\",\n",
    "        \"variable_unit\": \"TWh\",\n",
    "        \"scale\": 1e-3,\n",
    "    },\n",
    "    {\n",
    "        \"timeseries\": \"Baseline in petroleum use (GWh)\",\n",
    "        \"variable_name\": \"Baseline demand petroleum\",\n",
    "        \"variable_unit\": \"TWh\",\n",
    "        \"scale\": 1e-3,\n",
    "    },\n",
    "    {\n",
    "        \"timeseries\": \"Baseline in solid fuel use (GWh)\",\n",
    "        \"variable_name\": \"Baseline demand solid fuel\",\n",
    "        \"variable_unit\": \"TWh\",\n",
    "        \"scale\": 1e-3,\n",
    "    },\n",
    "    {\n",
    "        \"timeseries\": \"Baseline in primary bioenergy use (GWh)\",\n",
    "        \"variable_name\": \"Baseline demand final bioenergy\",\n",
    "        \"variable_unit\": \"TWh\",\n",
    "        \"scale\": 1e-3,\n",
    "    },\n",
    "    {\n",
    "        \"timeseries\": \"Baseline in hydrogen use (GWh)\",\n",
    "        \"variable_name\": \"Baseline demand hydrogen\",\n",
    "        \"variable_unit\": \"TWh\",\n",
    "        \"scale\": 1e-3,\n",
    "    },\n",
    "    {\n",
    "        \"timeseries\": \"Counterfactual capex (£m)\",\n",
    "        \"variable_name\": \"Baseline capital expenditure\",\n",
    "        \"variable_unit\": \"£m\",\n",
    "    },\n",
    "    {\n",
    "        \"timeseries\": \"Counterfactual opex (£m)\",\n",
    "        \"variable_name\": \"Baseline operating expenditure\",\n",
    "        \"variable_unit\": \"£m\",\n",
    "    },\n",
    "]"
   ]
  },
  {
   "cell_type": "code",
   "execution_count": null,
   "metadata": {},
   "outputs": [],
   "source": [
    "bl_df = nzip.sd_measure_level(df, baseline_kwargs, baseline=True)\n",
    "bl_df = nzip.baseline_from_measure_level(bl_df)\n",
    "with pd.ExcelWriter(output_file, mode='a', if_sheet_exists='replace') as writer:\n",
    "    bl_df.to_excel(writer, index=False, sheet_name='Baseline data')"
   ]
  },
  {
   "cell_type": "markdown",
   "metadata": {},
   "source": [
    "### Aggregate results\n",
    "\n",
    "Finally, we can aggregate the measure level and baseline pathway outputs to produce the final sector databook outputs."
   ]
  },
  {
   "cell_type": "code",
   "execution_count": null,
   "metadata": {},
   "outputs": [],
   "source": [
    "agg_df = nzip.get_aggregate_df(df, measure_level_kwargs, baseline_kwargs, sector)\n",
    "with pd.ExcelWriter(output_file, mode='a', if_sheet_exists='replace') as writer:\n",
    "    agg_df.to_excel(writer, index=False, sheet_name='Aggregate data')"
   ]
  },
  {
   "cell_type": "markdown",
   "metadata": {},
   "source": [
    "# Finished!\n",
    "\n",
    "Now you can just run the cell below to download the results!"
   ]
  },
  {
   "cell_type": "code",
   "execution_count": null,
   "metadata": {},
   "outputs": [],
   "source": [
    "if colab:\n",
    "    files.download(output_file) "
   ]
  }
 ],
 "metadata": {
  "kernelspec": {
   "display_name": "base",
   "language": "python",
   "name": "python3"
  },
  "language_info": {
   "codemirror_mode": {
    "name": "ipython",
    "version": 3
   },
   "file_extension": ".py",
   "mimetype": "text/x-python",
   "name": "python",
   "nbconvert_exporter": "python",
   "pygments_lexer": "ipython3",
   "version": "3.11.5"
  }
 },
 "nbformat": 4,
 "nbformat_minor": 2
}
