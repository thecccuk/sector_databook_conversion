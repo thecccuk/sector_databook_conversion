{
 "cells": [
  {
   "cell_type": "code",
   "execution_count": 80,
   "metadata": {},
   "outputs": [],
   "source": [
    "import pandas as pd\n",
    "from thefuzz import process"
   ]
  },
  {
   "cell_type": "code",
   "execution_count": 81,
   "metadata": {},
   "outputs": [],
   "source": [
    "START_YEAR = 2020\n",
    "END_YEAR = 2050\n",
    "DEVOLVED_AUTHS = ['United Kingdom', 'Scotland', 'Wales', 'Northern Ireland']\n",
    "GASES = ['CARBON', 'CH4', 'N2O']\n",
    "SD_COLUMNS = ['Country', 'Sector', 'Subsector', 'Measure Name', 'Measure Variable', 'Variable Unit'] + list(range(START_YEAR, END_YEAR+1))\n",
    "OUTPUT_FILE = 'sd-industry-test.xlsx'"
   ]
  },
  {
   "cell_type": "markdown",
   "metadata": {},
   "source": [
    "### Load data"
   ]
  },
  {
   "cell_type": "markdown",
   "metadata": {},
   "source": [
    "#### Step 1: Get measure definitions"
   ]
  },
  {
   "cell_type": "code",
   "execution_count": 71,
   "metadata": {},
   "outputs": [
    {
     "name": "stderr",
     "output_type": "stream",
     "text": [
      "c:\\Users\\sv000048\\AppData\\Local\\anaconda3\\Lib\\site-packages\\openpyxl\\worksheet\\_read_only.py:79: UserWarning: Data Validation extension is not supported and will be removed\n",
      "  for idx, row in parser.parse():\n"
     ]
    }
   ],
   "source": [
    "industry_model_path = 'Sam Industry Model.xlsx'\n",
    "with open(industry_model_path, 'rb') as f:\n",
    "    measure_defs = pd.read_excel(f, 'Measure definitions', header=12, usecols='B:D')\n",
    "measure_defs = measure_defs.dropna()\n",
    "industry_sectors = measure_defs['EE Sector']\n",
    "industry_process = measure_defs['Process']\n",
    "industry_tech = measure_defs['Abatement Technology']"
   ]
  },
  {
   "cell_type": "markdown",
   "metadata": {},
   "source": [
    "#### Step 2: load NZIP Outputs"
   ]
  },
  {
   "cell_type": "code",
   "execution_count": 72,
   "metadata": {},
   "outputs": [],
   "source": [
    "#nzip_path = 'N-ZIP Model - V1.1.xlsb'\n",
    "nzip_path = 'N-ZIP-Model_version1_2_AG_updated_19_12_2023.xlsb'\n",
    "with open(nzip_path, 'rb') as f:\n",
    "    df = pd.read_excel(f, 'CCC Outputs', header=10, usecols='F:CWV')"
   ]
  },
  {
   "cell_type": "code",
   "execution_count": 73,
   "metadata": {},
   "outputs": [],
   "source": [
    "#process.extract(\"CCS carbon\", cols, limit=10)"
   ]
  },
  {
   "cell_type": "code",
   "execution_count": 74,
   "metadata": {},
   "outputs": [
    {
     "data": {
      "text/plain": [
       "\"\\nwith open(industry_model_path, 'rb') as f:\\n    col_idxs = range(2, 2+len(cols))\\n    df = pd.read_excel(f, 'DD Outputs', header=9, usecols=list(col_idxs))\\n# correct column names\\ndf.columns = cols\\n\""
      ]
     },
     "execution_count": 74,
     "metadata": {},
     "output_type": "execute_result"
    }
   ],
   "source": [
    "'''\n",
    "with open(industry_model_path, 'rb') as f:\n",
    "    col_idxs = range(2, 2+len(cols))\n",
    "    df = pd.read_excel(f, 'DD Outputs', header=9, usecols=list(col_idxs))\n",
    "# correct column names\n",
    "df.columns = cols\n",
    "'''"
   ]
  },
  {
   "cell_type": "code",
   "execution_count": 75,
   "metadata": {},
   "outputs": [],
   "source": [
    "# fix missing and incorrect values\n",
    "df['% CARBON Emissions'] = pd.to_numeric(df['% CARBON Emissions'], errors='coerce')\n",
    "df['% CH4 Emissions'] = pd.to_numeric(df['% CH4 Emissions'], errors='coerce')\n",
    "df['% N2O Emissions'] = pd.to_numeric(df['% N2O Emissions'], errors='coerce')\n",
    "df['Selected Option'] = df['Selected Option'].fillna('')\n",
    "df = df.fillna(0)"
   ]
  },
  {
   "cell_type": "code",
   "execution_count": 103,
   "metadata": {},
   "outputs": [],
   "source": [
    "for y in range(START_YEAR, END_YEAR+1):\n",
    "    df[f'Total AM costs (£m) {y}'] = pd.to_numeric(df[f'Total AM costs (£m) {y}'], errors='coerce').fillna(0)\n",
    "    df[f'AM opex (£m) {y}'] = pd.to_numeric(df[f'AM opex (£m) {y}'], errors='coerce').fillna(0)\n",
    "    df[f'AM fuel costs (£m) {y}'] = pd.to_numeric(df[f'AM fuel costs (£m) {y}'], errors='coerce').fillna(0)\n",
    "    "
   ]
  },
  {
   "cell_type": "markdown",
   "metadata": {},
   "source": [
    "### Abatement emissions"
   ]
  },
  {
   "cell_type": "code",
   "execution_count": 104,
   "metadata": {},
   "outputs": [],
   "source": [
    "def sector_databook_format(df, variable_name, variable_unit):\n",
    "    df = df.reset_index()\n",
    "    df['Sector'] = 'Industry'\n",
    "    df['Subsector'] = df['Element_sector']\n",
    "    df['Measure Name'] = df['Element_sector'] + '_' + df['Process'] + '_' + df['Selected Option']\n",
    "    df['Measure Variable'] = variable_name\n",
    "    df['Variable Unit'] = variable_unit\n",
    "    df = df[SD_COLUMNS]\n",
    "    return df\n",
    "\n",
    "def aggregate_timeseries_contry(df, timeseries, variable_name, variable_unit, weight_col=None, country='United Kingdom', scale=None):\n",
    "\n",
    "    # get the emissions time series columns\n",
    "    total_emissions_cols = [f'{timeseries} {y}' for y in range(START_YEAR, END_YEAR+1)]\n",
    "\n",
    "    # get carbon emissions\n",
    "    emissions_cols = list(range(START_YEAR, END_YEAR+1))\n",
    "    df[emissions_cols] = df[total_emissions_cols].copy()\n",
    "    if weight_col:\n",
    "        df[emissions_cols] = df[emissions_cols].multiply(df[weight_col], axis=0)\n",
    "    if scale:\n",
    "        df[emissions_cols] = df[emissions_cols] * scale\n",
    "\n",
    "    # sum rows corresponding to the same measure\n",
    "    agg_emissions_df = df.groupby(['Element_sector', 'Process', 'Selected Option'])[emissions_cols].sum()\n",
    "\n",
    "    # remove measures not pertaining to the industry model\n",
    "    row_idxs = [(industry_sectors[i], industry_process[i], industry_tech[i]) for i in range(len(industry_sectors))]\n",
    "    row_idxs = [idx for idx in row_idxs if idx in agg_emissions_df.index]\n",
    "    agg_emissions_df = agg_emissions_df.loc[row_idxs]\n",
    "\n",
    "    # add country column\n",
    "    agg_emissions_df['Country'] = country\n",
    "\n",
    "    # format as sector databook\n",
    "    df = sector_databook_format(agg_emissions_df, variable_name, variable_unit)\n",
    "\n",
    "    return df\n",
    "\n",
    "def aggregate_timeseries(df, **kwargs):\n",
    "    dfs = [aggregate_timeseries_contry(df, country=country, **kwargs) for country in DEVOLVED_AUTHS]\n",
    "    df = pd.concat(dfs)\n",
    "    return df"
   ]
  },
  {
   "cell_type": "code",
   "execution_count": 106,
   "metadata": {},
   "outputs": [],
   "source": [
    "# add capex and opex cols\n",
    "for y in range(START_YEAR, END_YEAR+1):\n",
    "    df[f'capex {y}'] = df[f'AM capex (£m) {y}'] - df[f'Counterfactual capex (£m) {y}']\n",
    "    df[f'opex {y}'] = df[f'AM opex (£m) {y}'] + df[f'AM fuel costs (£m) {y}'] - (df[f'Counterfactual opex (£m) {y}'] + df[f'Counterfactual fuel costs (£m) {y}'])"
   ]
  },
  {
   "cell_type": "code",
   "execution_count": 107,
   "metadata": {},
   "outputs": [],
   "source": [
    "function_calls = [\n",
    "    # Add total direct and indirect emissions\n",
    "    {\n",
    "        \"timeseries\": \"Total direct emissions abated (MtCO2e)\",\n",
    "        \"variable_name\": \"Abatement total direct\",\n",
    "        \"variable_unit\": \"MtCO2e\",\n",
    "    },\n",
    "    {\n",
    "        \"timeseries\": \"Total indirect emissions abated (MtCO2e)\",\n",
    "        \"variable_name\": \"Abatement total indirect\",\n",
    "        \"variable_unit\": \"MtCO2e\",\n",
    "    },\n",
    "\n",
    "    # Add broken down emissions\n",
    "    {\n",
    "        \"timeseries\": \"Total direct emissions abated (MtCO2e)\",\n",
    "        \"variable_name\": \"Abatement emissions CO2\",\n",
    "        \"variable_unit\": \"MtCO2\",\n",
    "        \"weight_col\": \"% CARBON Emissions\",\n",
    "    },\n",
    "    {\n",
    "        \"timeseries\": \"Total direct emissions abated (MtCO2e)\",\n",
    "        \"variable_name\": \"Abatement emissions CH4\",\n",
    "        \"variable_unit\": \"MtCO2e\",\n",
    "        \"weight_col\": \"% CH4 Emissions\",\n",
    "    },\n",
    "    {\n",
    "        \"timeseries\": \"Total direct emissions abated (MtCO2e)\",\n",
    "        \"variable_name\": \"Abatement emissions N20\",\n",
    "        \"variable_unit\": \"MtCO2e\",\n",
    "        \"weight_col\": \"% N2O Emissions\",\n",
    "    },\n",
    "\n",
    "    # Add demand\n",
    "    {\n",
    "        \"timeseries\": \"Change in electricity use (GWh)\",\n",
    "        \"variable_name\": \"Additional demand electricity\",\n",
    "        \"variable_unit\": \"TWh\",\n",
    "        \"scale\": 1e-3,\n",
    "    },\n",
    "    {\n",
    "        \"timeseries\": \"Change in natural gas use (GWh)\",\n",
    "        \"variable_name\": \"Additional demand gas\",\n",
    "        \"variable_unit\": \"TWh\",\n",
    "        \"scale\": 1e-3,\n",
    "    },\n",
    "    {\n",
    "        \"timeseries\": \"Change in petroleum use (GWh)\",\n",
    "        \"variable_name\": \"Additional demand petroleum\",\n",
    "        \"variable_unit\": \"TWh\",\n",
    "        \"scale\": 1e-3,\n",
    "    },\n",
    "    {\n",
    "        \"timeseries\": \"Change in solid fuel use (GWh)\",\n",
    "        \"variable_name\": \"Additional demand solid fuel\",\n",
    "        \"variable_unit\": \"TWh\",\n",
    "        \"scale\": 1e-3,\n",
    "    },\n",
    "    {\n",
    "        \"timeseries\": \"Change in primary bioenergy use (GWh)\",\n",
    "        \"variable_name\": \"Additional demand final bioenergy\",\n",
    "        \"variable_unit\": \"TWh\",\n",
    "        \"scale\": 1e-3,\n",
    "    },\n",
    "    {\n",
    "        \"timeseries\": \"Change in hydrogen use (GWh)\",\n",
    "        \"variable_name\": \"Additional demand hydrogen\",\n",
    "        \"variable_unit\": \"TWh\",\n",
    "        \"scale\": 1e-3,\n",
    "    },\n",
    "\n",
    "    # Add capex and opex\n",
    "    {\n",
    "        \"timeseries\": \"capex\",\n",
    "        \"variable_name\": \"Additional capital expenditure\",\n",
    "        \"variable_unit\": \"£m\",\n",
    "    },\n",
    "    {\n",
    "        \"timeseries\": \"opex\",\n",
    "        \"variable_name\": \"Additional operational expenditure\",\n",
    "        \"variable_unit\": \"£m\",\n",
    "    },\n",
    "]"
   ]
  },
  {
   "cell_type": "code",
   "execution_count": 113,
   "metadata": {},
   "outputs": [],
   "source": [
    "sd_df = pd.DataFrame(columns=SD_COLUMNS)\n",
    "for args in function_calls:\n",
    "    sd_df = pd.concat([sd_df, aggregate_timeseries(df, **args)])"
   ]
  },
  {
   "cell_type": "code",
   "execution_count": 114,
   "metadata": {},
   "outputs": [
    {
     "data": {
      "text/html": [
       "<div>\n",
       "<style scoped>\n",
       "    .dataframe tbody tr th:only-of-type {\n",
       "        vertical-align: middle;\n",
       "    }\n",
       "\n",
       "    .dataframe tbody tr th {\n",
       "        vertical-align: top;\n",
       "    }\n",
       "\n",
       "    .dataframe thead th {\n",
       "        text-align: right;\n",
       "    }\n",
       "</style>\n",
       "<table border=\"1\" class=\"dataframe\">\n",
       "  <thead>\n",
       "    <tr style=\"text-align: right;\">\n",
       "      <th></th>\n",
       "      <th>Country</th>\n",
       "      <th>Sector</th>\n",
       "      <th>Subsector</th>\n",
       "      <th>Measure Name</th>\n",
       "      <th>Measure Variable</th>\n",
       "      <th>Variable Unit</th>\n",
       "      <th>2020</th>\n",
       "      <th>2021</th>\n",
       "      <th>2022</th>\n",
       "      <th>2023</th>\n",
       "      <th>...</th>\n",
       "      <th>2041</th>\n",
       "      <th>2042</th>\n",
       "      <th>2043</th>\n",
       "      <th>2044</th>\n",
       "      <th>2045</th>\n",
       "      <th>2046</th>\n",
       "      <th>2047</th>\n",
       "      <th>2048</th>\n",
       "      <th>2049</th>\n",
       "      <th>2050</th>\n",
       "    </tr>\n",
       "  </thead>\n",
       "  <tbody>\n",
       "    <tr>\n",
       "      <th>0</th>\n",
       "      <td>United Kingdom</td>\n",
       "      <td>Industry</td>\n",
       "      <td>Iron (Port Talbot Scunthorpe)</td>\n",
       "      <td>Iron (Port Talbot Scunthorpe)_Primary Iron Pro...</td>\n",
       "      <td>Abatement total direct</td>\n",
       "      <td>MtCO2e</td>\n",
       "      <td>0.0</td>\n",
       "      <td>0.0</td>\n",
       "      <td>0.0</td>\n",
       "      <td>0.0</td>\n",
       "      <td>...</td>\n",
       "      <td>3.278571</td>\n",
       "      <td>3.278571</td>\n",
       "      <td>3.278571</td>\n",
       "      <td>3.278571</td>\n",
       "      <td>3.278904</td>\n",
       "      <td>3.260155</td>\n",
       "      <td>3.243387</td>\n",
       "      <td>3.224962</td>\n",
       "      <td>3.206537</td>\n",
       "      <td>3.188598</td>\n",
       "    </tr>\n",
       "    <tr>\n",
       "      <th>1</th>\n",
       "      <td>United Kingdom</td>\n",
       "      <td>Industry</td>\n",
       "      <td>Iron (Port Talbot Scunthorpe)</td>\n",
       "      <td>Iron (Port Talbot Scunthorpe)_Primary Iron Pro...</td>\n",
       "      <td>Abatement total direct</td>\n",
       "      <td>MtCO2e</td>\n",
       "      <td>0.0</td>\n",
       "      <td>0.0</td>\n",
       "      <td>0.0</td>\n",
       "      <td>0.0</td>\n",
       "      <td>...</td>\n",
       "      <td>3.278571</td>\n",
       "      <td>3.278571</td>\n",
       "      <td>3.278571</td>\n",
       "      <td>3.278571</td>\n",
       "      <td>3.278904</td>\n",
       "      <td>3.260155</td>\n",
       "      <td>3.243387</td>\n",
       "      <td>3.224962</td>\n",
       "      <td>3.206537</td>\n",
       "      <td>3.188598</td>\n",
       "    </tr>\n",
       "    <tr>\n",
       "      <th>2</th>\n",
       "      <td>United Kingdom</td>\n",
       "      <td>Industry</td>\n",
       "      <td>Cement</td>\n",
       "      <td>Cement_Biomass Process_BECCS 1 - Calcium Looping</td>\n",
       "      <td>Abatement total direct</td>\n",
       "      <td>MtCO2e</td>\n",
       "      <td>0.0</td>\n",
       "      <td>0.0</td>\n",
       "      <td>0.0</td>\n",
       "      <td>0.0</td>\n",
       "      <td>...</td>\n",
       "      <td>0.000000</td>\n",
       "      <td>0.000000</td>\n",
       "      <td>0.000000</td>\n",
       "      <td>0.000000</td>\n",
       "      <td>0.000000</td>\n",
       "      <td>0.000000</td>\n",
       "      <td>0.000000</td>\n",
       "      <td>0.000000</td>\n",
       "      <td>0.000000</td>\n",
       "      <td>0.000000</td>\n",
       "    </tr>\n",
       "    <tr>\n",
       "      <th>3</th>\n",
       "      <td>United Kingdom</td>\n",
       "      <td>Industry</td>\n",
       "      <td>Food &amp; Drink</td>\n",
       "      <td>Food &amp; Drink_Biomass Process_BECCS 1 - Calcium...</td>\n",
       "      <td>Abatement total direct</td>\n",
       "      <td>MtCO2e</td>\n",
       "      <td>0.0</td>\n",
       "      <td>0.0</td>\n",
       "      <td>0.0</td>\n",
       "      <td>0.0</td>\n",
       "      <td>...</td>\n",
       "      <td>0.000000</td>\n",
       "      <td>0.000000</td>\n",
       "      <td>0.000000</td>\n",
       "      <td>0.000000</td>\n",
       "      <td>0.000000</td>\n",
       "      <td>0.000000</td>\n",
       "      <td>0.000000</td>\n",
       "      <td>0.000000</td>\n",
       "      <td>0.000000</td>\n",
       "      <td>0.000000</td>\n",
       "    </tr>\n",
       "    <tr>\n",
       "      <th>4</th>\n",
       "      <td>United Kingdom</td>\n",
       "      <td>Industry</td>\n",
       "      <td>Lime</td>\n",
       "      <td>Lime_Biomass Process_BECCS 1 - Calcium Looping</td>\n",
       "      <td>Abatement total direct</td>\n",
       "      <td>MtCO2e</td>\n",
       "      <td>0.0</td>\n",
       "      <td>0.0</td>\n",
       "      <td>0.0</td>\n",
       "      <td>0.0</td>\n",
       "      <td>...</td>\n",
       "      <td>0.000000</td>\n",
       "      <td>0.000000</td>\n",
       "      <td>0.000000</td>\n",
       "      <td>0.000000</td>\n",
       "      <td>0.000000</td>\n",
       "      <td>0.000000</td>\n",
       "      <td>0.000000</td>\n",
       "      <td>0.000000</td>\n",
       "      <td>0.000000</td>\n",
       "      <td>0.000000</td>\n",
       "    </tr>\n",
       "  </tbody>\n",
       "</table>\n",
       "<p>5 rows × 37 columns</p>\n",
       "</div>"
      ],
      "text/plain": [
       "          Country    Sector                      Subsector  \\\n",
       "0  United Kingdom  Industry  Iron (Port Talbot Scunthorpe)   \n",
       "1  United Kingdom  Industry  Iron (Port Talbot Scunthorpe)   \n",
       "2  United Kingdom  Industry                         Cement   \n",
       "3  United Kingdom  Industry                   Food & Drink   \n",
       "4  United Kingdom  Industry                           Lime   \n",
       "\n",
       "                                        Measure Name        Measure Variable  \\\n",
       "0  Iron (Port Talbot Scunthorpe)_Primary Iron Pro...  Abatement total direct   \n",
       "1  Iron (Port Talbot Scunthorpe)_Primary Iron Pro...  Abatement total direct   \n",
       "2   Cement_Biomass Process_BECCS 1 - Calcium Looping  Abatement total direct   \n",
       "3  Food & Drink_Biomass Process_BECCS 1 - Calcium...  Abatement total direct   \n",
       "4     Lime_Biomass Process_BECCS 1 - Calcium Looping  Abatement total direct   \n",
       "\n",
       "  Variable Unit  2020  2021  2022  2023  ...      2041      2042      2043  \\\n",
       "0        MtCO2e   0.0   0.0   0.0   0.0  ...  3.278571  3.278571  3.278571   \n",
       "1        MtCO2e   0.0   0.0   0.0   0.0  ...  3.278571  3.278571  3.278571   \n",
       "2        MtCO2e   0.0   0.0   0.0   0.0  ...  0.000000  0.000000  0.000000   \n",
       "3        MtCO2e   0.0   0.0   0.0   0.0  ...  0.000000  0.000000  0.000000   \n",
       "4        MtCO2e   0.0   0.0   0.0   0.0  ...  0.000000  0.000000  0.000000   \n",
       "\n",
       "       2044      2045      2046      2047      2048      2049      2050  \n",
       "0  3.278571  3.278904  3.260155  3.243387  3.224962  3.206537  3.188598  \n",
       "1  3.278571  3.278904  3.260155  3.243387  3.224962  3.206537  3.188598  \n",
       "2  0.000000  0.000000  0.000000  0.000000  0.000000  0.000000  0.000000  \n",
       "3  0.000000  0.000000  0.000000  0.000000  0.000000  0.000000  0.000000  \n",
       "4  0.000000  0.000000  0.000000  0.000000  0.000000  0.000000  0.000000  \n",
       "\n",
       "[5 rows x 37 columns]"
      ]
     },
     "execution_count": 114,
     "metadata": {},
     "output_type": "execute_result"
    }
   ],
   "source": [
    "sd_df.head()"
   ]
  },
  {
   "cell_type": "code",
   "execution_count": 115,
   "metadata": {},
   "outputs": [],
   "source": [
    "sd_df.to_excel(OUTPUT_FILE, index=False, sheet_name='pathway')"
   ]
  },
  {
   "cell_type": "markdown",
   "metadata": {},
   "source": [
    "### Baseline emissions"
   ]
  },
  {
   "cell_type": "code",
   "execution_count": 116,
   "metadata": {},
   "outputs": [],
   "source": [
    "bl_cols = [\n",
    "    {\n",
    "        \"timeseries\": \"Baseline emissions (MtCO2e)\",\n",
    "        \"variable_name\": \"Baseline emissions CO2\",\n",
    "        \"variable_unit\": \"MtCO2\",\n",
    "        \"weight_col\": \"% CARBON Emissions\",\n",
    "    },\n",
    "    {\n",
    "        \"timeseries\": \"Baseline emissions (MtCO2e)\",\n",
    "        \"variable_name\": \"Baseline emissions CH4\",\n",
    "        \"variable_unit\": \"MtCO2e\",\n",
    "        \"weight_col\": \"% CH4 Emissions\",\n",
    "    },\n",
    "    {\n",
    "        \"timeseries\": \"Baseline emissions (MtCO2e)\",\n",
    "        \"variable_name\": \"Baseline emissions N20\",\n",
    "        \"variable_unit\": \"MtCO2e\",\n",
    "        \"weight_col\": \"% N2O Emissions\",\n",
    "    },\n",
    "]"
   ]
  },
  {
   "cell_type": "code",
   "execution_count": 117,
   "metadata": {},
   "outputs": [],
   "source": [
    "bl_df = pd.DataFrame(columns=SD_COLUMNS)\n",
    "for args in bl_cols:\n",
    "    bl_df = pd.concat([bl_df, aggregate_timeseries(df, **args)])\n"
   ]
  },
  {
   "cell_type": "code",
   "execution_count": 118,
   "metadata": {},
   "outputs": [],
   "source": [
    "bl_df = bl_df.groupby(['Subsector', 'Measure Variable']).sum(numeric_only=True)\n",
    "bl_df = bl_df.reset_index()\n",
    "with pd.ExcelWriter(OUTPUT_FILE, mode='a') as writer:  \n",
    "    bl_df.to_excel(writer, index=False, sheet_name='baseline')"
   ]
  },
  {
   "cell_type": "markdown",
   "metadata": {},
   "source": [
    "### Aggregated outputs"
   ]
  },
  {
   "cell_type": "code",
   "execution_count": null,
   "metadata": {},
   "outputs": [],
   "source": []
  },
  {
   "cell_type": "markdown",
   "metadata": {},
   "source": [
    "## looking at measure definitions"
   ]
  },
  {
   "cell_type": "code",
   "execution_count": 13,
   "metadata": {},
   "outputs": [],
   "source": [
    "industry_measures = set([industry_sectors[i] + '_' + industry_process[i] + '_' + industry_tech[i] for i in range(len(industry_sectors))])\n",
    "nzip_measures = set(df['Element_sector'].astype(str) + '_' + df['Process'].astype(str) + '_' + df['Selected Option'].astype(str))\n",
    "lost = set(industry_measures) - set(nzip_measures)"
   ]
  },
  {
   "cell_type": "code",
   "execution_count": 14,
   "metadata": {},
   "outputs": [
    {
     "data": {
      "text/plain": [
       "(452, 180, 365)"
      ]
     },
     "execution_count": 14,
     "metadata": {},
     "output_type": "execute_result"
    }
   ],
   "source": [
    "len(industry_measures), len(nzip_measures), len(lost)"
   ]
  },
  {
   "cell_type": "code",
   "execution_count": 15,
   "metadata": {},
   "outputs": [],
   "source": [
    "# save list of lost measures to a text file in the same directory as the excel files\n",
    "with open('lost_measures.txt', 'w') as f:\n",
    "    # write using join\n",
    "    f.write('\\n'.join(sorted(lost)))"
   ]
  },
  {
   "cell_type": "code",
   "execution_count": null,
   "metadata": {},
   "outputs": [],
   "source": []
  }
 ],
 "metadata": {
  "kernelspec": {
   "display_name": "base",
   "language": "python",
   "name": "python3"
  },
  "language_info": {
   "codemirror_mode": {
    "name": "ipython",
    "version": 3
   },
   "file_extension": ".py",
   "mimetype": "text/x-python",
   "name": "python",
   "nbconvert_exporter": "python",
   "pygments_lexer": "ipython3",
   "version": "3.11.5"
  }
 },
 "nbformat": 4,
 "nbformat_minor": 2
}
