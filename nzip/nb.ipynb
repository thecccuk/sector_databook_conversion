{
 "cells": [
  {
   "cell_type": "markdown",
   "metadata": {},
   "source": [
    "# Setup\n",
    "\n",
    "This is a notebook which converts NZIP model outputs into the CB7 Sector Databook.\n",
    "If you are unfamiliar with Jupyter notebooks, have a look at the following links [1](https://colab.research.google.com/drive/16pBJQePbqkz3QFV54L4NIkOn1kwpuRrj), [2](https://jupyter-notebook-beginner-guide.readthedocs.io/en/latest/what_is_jupyter.html), [3](https://colab.research.google.com/?utm_source=scs-index).\n",
    "\n",
    "[**Open in colab**](https://colab.research.google.com/github/thecccuk/sector_databook_conversion/blob/main/nzip/nb.ipynb)\n",
    "\n",
    "If you are running from Colab, you first need to download some files from the [CCC GitHub repo](https://github.com/thecccuk/sector_databook_conversion/tree/main/nzip) and install some packages:"
   ]
  },
  {
   "cell_type": "code",
   "execution_count": null,
   "metadata": {},
   "outputs": [],
   "source": [
    "colab = False # change to False if running on your local machine, or True if running on colab\n",
    "\n",
    "# only run on colab!\n",
    "if colab:\n",
    "    get_ipython().system('wget -q https://raw.githubusercontent.com/thecccuk/sector_databook_conversion/main/nzip/nzip.py -O nzip.py')\n",
    "    get_ipython().system('wget -q https://raw.githubusercontent.com/thecccuk/sector_databook_conversion/main/nzip/nzip_model_sector_map.csv -O nzip_model_sector_map.csv')\n",
    "    get_ipython().system('wget -q https://raw.githubusercontent.com/thecccuk/sector_databook_conversion/main/nzip/requirements.txt -O requirements.txt')\n",
    "    get_ipython().system('pip install -q -r requirements.txt')"
   ]
  },
  {
   "cell_type": "markdown",
   "metadata": {},
   "source": [
    "Next we need to import the nzip module (that we just downloaded) and the pandas module (which is already installed in the colab runtime)."
   ]
  },
  {
   "cell_type": "code",
   "execution_count": null,
   "metadata": {},
   "outputs": [],
   "source": [
    "%load_ext autoreload\n",
    "%autoreload 2\n",
    "\n",
    "# imports\n",
    "import pandas as pd\n",
    "import nzip\n",
    "\n",
    "# ignore some junk output\n",
    "import warnings\n",
    "warnings.simplefilter(action='ignore', category=pd.errors.PerformanceWarning)"
   ]
  },
  {
   "cell_type": "markdown",
   "metadata": {},
   "source": [
    "### Load data\n",
    "\n",
    "In the following block we set some parameters for the conversion."
   ]
  },
  {
   "cell_type": "code",
   "execution_count": null,
   "metadata": {},
   "outputs": [],
   "source": [
    "# NZIP sectors are 'Industry' or 'Fuel Supply'\n",
    "nzip.SECTOR = 'Industry'\n",
    "nzip.SCENARIO = 'Balanced pathway'\n",
    "\n",
    "# path to a local NZIP model run. If you are running on colab, this variable will be overwritten when you upload a file in the next code cell\n",
    "nzip_path = 'N-ZIP-Model_version1_2_AG_updated_19_12_2023.xlsb'\n",
    "\n",
    "# filename of the csv which maps NZIP sectors to CCC sectors\n",
    "sector_defs_path = 'nzip_model_sector_map.csv'\n",
    "\n",
    "# where to save the output file\n",
    "output_file = f\"sd-{nzip.SECTOR.replace(' ', '-')}-test.xlsx\""
   ]
  },
  {
   "cell_type": "markdown",
   "metadata": {},
   "source": [
    "When running on google colab, we need to upload the NZIP model outputs you want to convert.\n",
    "Running the following cell will produce a button that will let you upload a file from your local machine.\n",
    "\n",
    "At the moment this is annoyingly slow, so you may want to try uploading the NZIP model to your google drive and loading it from there (then it only needs to be uploaded once)."
   ]
  },
  {
   "cell_type": "code",
   "execution_count": null,
   "metadata": {},
   "outputs": [],
   "source": [
    "if colab:\n",
    "    from google.colab import files\n",
    "    uploaded = files.upload()\n",
    "    assert len(uploaded) == 1, 'You must upload exactly one file, which should be the NZIP model outputs file'\n",
    "    nzip_path = list(uploaded.keys())[0]"
   ]
  },
  {
   "cell_type": "markdown",
   "metadata": {},
   "source": [
    "After uploading, we can read the Excel file to a pandas dataframe.\n",
    "This is also annoyingly slow (2-3 mins) and would be much faster with a CSV."
   ]
  },
  {
   "cell_type": "code",
   "execution_count": null,
   "metadata": {},
   "outputs": [],
   "source": [
    "# load the nzip data and add some columns as intermediate calculations\n",
    "df = nzip.load_nzip(nzip_path, sector_defs_path, nzip.SECTOR)\n",
    "df = nzip.add_cols(df.copy())"
   ]
  },
  {
   "cell_type": "markdown",
   "metadata": {},
   "source": [
    "### Measure level data\n",
    "\n",
    "The cell below this one contains the configuration for process the different measure level outputs. Each list element is a dictionary with the following keys:\n",
    "\n",
    "- `timeseries`: the name of the NZIP columns that contain the relevant data, with the year removed\n",
    "- `variable_name`: the name of the variable in the CB7 Sector Databook\n",
    "- `variable_unit`: the unit of the variable in the CB7 Sector Databook\n",
    "- `weight_col`: if specified, the code will look for a NZIP column with this name and use it to weight the timeseries data\n",
    "- `scale`: if specified, this will apply a fixed scaling factor to the timeseries data\n",
    "\n",
    "Each dictionary will be processed in turn, and the resulting tables will be appended together."
   ]
  },
  {
   "cell_type": "code",
   "execution_count": 48,
   "metadata": {},
   "outputs": [],
   "source": [
    "measure_level_kwargs = [\n",
    "    # Add total direct and indirect emissions\n",
    "    {\n",
    "        \"timeseries\": \"Total direct emissions abated (MtCO2e)\",\n",
    "        \"variable_name\": \"Abatement total direct\",\n",
    "        \"variable_unit\": \"MtCO2e\",\n",
    "    },\n",
    "    {\n",
    "        \"timeseries\": \"Total indirect emissions abated (MtCO2e)\",\n",
    "        \"variable_name\": \"Abatement total indirect\",\n",
    "        \"variable_unit\": \"MtCO2e\",\n",
    "    },\n",
    "\n",
    "    # Add emissions by gas\n",
    "    {\n",
    "        \"timeseries\": \"Total direct emissions abated (MtCO2e)\",\n",
    "        \"variable_name\": \"Abatement emissions CO2\",\n",
    "        \"variable_unit\": \"MtCO2\",\n",
    "        \"weight_col\": \"% CARBON Emissions\",\n",
    "    },\n",
    "    {\n",
    "        \"timeseries\": \"Total direct emissions abated (MtCO2e)\",\n",
    "        \"variable_name\": \"Abatement emissions CH4\",\n",
    "        \"variable_unit\": \"MtCO2e\",\n",
    "        \"weight_col\": \"% CH4 Emissions\",\n",
    "    },\n",
    "    {\n",
    "        \"timeseries\": \"Total direct emissions abated (MtCO2e)\",\n",
    "        \"variable_name\": \"Abatement emissions N2O\",\n",
    "        \"variable_unit\": \"MtCO2e\",\n",
    "        \"weight_col\": \"% N2O Emissions\",\n",
    "    },\n",
    "\n",
    "    # Add demand\n",
    "    {\n",
    "        \"timeseries\": \"Change in electricity use (GWh)\",\n",
    "        \"variable_name\": \"Additional demand electricity\",\n",
    "        \"variable_unit\": \"TWh\",\n",
    "        \"scale\": 1e-3,\n",
    "    },\n",
    "    {\n",
    "        \"timeseries\": \"Change in natural gas use (GWh)\",\n",
    "        \"variable_name\": \"Additional demand gas\",\n",
    "        \"variable_unit\": \"TWh\",\n",
    "        \"scale\": 1e-3,\n",
    "    },\n",
    "    {\n",
    "        \"timeseries\": \"Change in petroleum use (GWh)\",\n",
    "        \"variable_name\": \"Additional demand petroleum\",\n",
    "        \"variable_unit\": \"TWh\",\n",
    "        \"scale\": 1e-3,\n",
    "    },\n",
    "    {\n",
    "        \"timeseries\": \"Change in solid fuel use (GWh)\",\n",
    "        \"variable_name\": \"Additional demand solid fuel\",\n",
    "        \"variable_unit\": \"TWh\",\n",
    "        \"scale\": 1e-3,\n",
    "    },\n",
    "    {\n",
    "        \"timeseries\": \"Change in primary bioenergy use (GWh)\",\n",
    "        \"variable_name\": \"Additional demand final bioenergy\",\n",
    "        \"variable_unit\": \"TWh\",\n",
    "        \"scale\": 1e-3,\n",
    "    },\n",
    "    {\n",
    "        \"timeseries\": \"Change in hydrogen use (GWh)\",\n",
    "        \"variable_name\": \"Additional demand hydrogen\",\n",
    "        \"variable_unit\": \"TWh\",\n",
    "        \"scale\": 1e-3,\n",
    "    },\n",
    "    {\n",
    "        \"timeseries\": \"Change in non bio waste\",\n",
    "        \"variable_name\": \"Additional demand final non-bio waste\",\n",
    "        \"variable_unit\": \"TWh\",\n",
    "        \"scale\": 1e-3,\n",
    "    },\n",
    "\n",
    "    # Add capex and opex\n",
    "    {\n",
    "        \"timeseries\": \"capex\",\n",
    "        \"variable_name\": \"Additional capital expenditure\",\n",
    "        \"variable_unit\": \"£m\",\n",
    "    },\n",
    "    {\n",
    "        \"timeseries\": \"AM levelised capex (£m)\",\n",
    "        \"variable_name\": \"Additional capital expenditure annualised\",\n",
    "        \"variable_unit\": \"£m\",\n",
    "    },\n",
    "    {\n",
    "        \"timeseries\": \"capex low carbon\",\n",
    "        \"variable_name\": \"Total capital expenditure low carbon\",\n",
    "        \"variable_unit\": \"£m\",\n",
    "    },\n",
    "    {\n",
    "        \"timeseries\": \"opex\",\n",
    "        \"variable_name\": \"Additional operating expenditure\",\n",
    "        \"variable_unit\": \"£m\",\n",
    "    },\n",
    "    {\n",
    "        \"timeseries\": \"opex low carbon\",\n",
    "        \"variable_name\": \"Total operating expenditure low carbon\",\n",
    "        \"variable_unit\": \"£m\",\n",
    "    },\n",
    "\n",
    "    # CCS\n",
    "    {\n",
    "        \"timeseries\": \"Tonnes of CO2 captured (MtCO2)\",\n",
    "        \"variable_name\": \"Additional CCS\",\n",
    "        \"variable_unit\": \"MtCO2\",\n",
    "    },\n",
    "\n",
    "    # these are intermediate variables\n",
    "    {\n",
    "        \"timeseries\": \"total emissions abated\",\n",
    "        \"variable_name\": \"total emissions abated\",\n",
    "        \"variable_unit\": \"MtCO2e\",\n",
    "    },\n",
    "    {\n",
    "        \"timeseries\": \"cost differential\",\n",
    "        \"variable_name\": \"cost differential\",\n",
    "        \"variable_unit\": \"£m\",\n",
    "    },\n",
    "    {\n",
    "        \"timeseries\": \"cum total emissions abated\",\n",
    "        \"variable_name\": \"cum total emissions abated\",\n",
    "        \"variable_unit\": \"MtCO2e\",\n",
    "    },\n",
    "    {\n",
    "        \"timeseries\": \"cum cost differential\",\n",
    "        \"variable_name\": \"cum cost differential\",\n",
    "        \"variable_unit\": \"£m\",\n",
    "    },\n",
    "]"
   ]
  },
  {
   "cell_type": "markdown",
   "metadata": {},
   "source": [
    "We have to process the REEE measures differently because they do not follow the same output format as the other measures.\n",
    "\n",
    "For now we are using the abatement EE fraction to compute all the variables."
   ]
  },
  {
   "cell_type": "code",
   "execution_count": 49,
   "metadata": {},
   "outputs": [],
   "source": [
    "reee_kwargs = [\n",
    "    {\n",
    "        \"baseline_col\": \"Baseline emissions (MtCO2e)\",\n",
    "        \"post_reee_col\": \"Post REEE baseline emissions (MtCO2e)\",\n",
    "        \"out_col\": \"Abatement emissions CO2\",\n",
    "        \"variable_unit\": \"MtCO2\",\n",
    "    },\n",
    "    {\n",
    "        \"baseline_col\": \"Baseline electricity use (GWh)\",\n",
    "        \"post_reee_col\": \"Post REEE baseline electricity use (GWh)\",\n",
    "        \"out_col\": \"Additional demand electricity\",\n",
    "        \"variable_unit\": \"TWh\",\n",
    "        \"scale\": 1e-3,\n",
    "    },\n",
    "    {\n",
    "        \"baseline_col\": \"Baseline in natural gas use (GWh)\",\n",
    "        \"post_reee_col\": \"Post REEE baseline in natural gas use (GWh)\",\n",
    "        \"out_col\": \"Additional demand gas\",\n",
    "        \"variable_unit\": \"TWh\",\n",
    "        \"scale\": 1e-3,\n",
    "    },\n",
    "    {\n",
    "        \"baseline_col\": \"Baseline in petroleum use (GWh)\",\n",
    "        \"post_reee_col\": \"Post REEE baseline in petroleum use (GWh)\",\n",
    "        \"out_col\": \"Additional demand petroleum\",\n",
    "        \"variable_unit\": \"TWh\",\n",
    "        \"scale\": 1e-3,\n",
    "    },\n",
    "    {\n",
    "        \"baseline_col\": \"Baseline in solid fuel use (GWh)\",\n",
    "        \"post_reee_col\": \"Post REEE baseline in solid fuel use (GWh)\",\n",
    "        \"out_col\": \"Additional demand solid fuel\",\n",
    "        \"variable_unit\": \"TWh\",\n",
    "        \"scale\": 1e-3,\n",
    "    },\n",
    "]"
   ]
  },
  {
   "cell_type": "markdown",
   "metadata": {},
   "source": [
    "Now we have defined the configuration, we can process the data and write the outputs to excel"
   ]
  },
  {
   "cell_type": "code",
   "execution_count": 51,
   "metadata": {},
   "outputs": [],
   "source": [
    "# write out the measure level data for this pathway\n",
    "sd_df = nzip.sd_measure_level(df.copy(), measure_level_kwargs, reee_kwargs, nzip_path=nzip_path, baseline=False)\n",
    "sd_df.to_excel(output_file, index=False, sheet_name='BP Measure level data')"
   ]
  },
  {
   "cell_type": "code",
   "execution_count": 42,
   "metadata": {},
   "outputs": [
    {
     "ename": "PermissionError",
     "evalue": "[Errno 13] Permission denied: 'sd-Industry-test.xlsx'",
     "output_type": "error",
     "traceback": [
      "\u001b[1;31m---------------------------------------------------------------------------\u001b[0m",
      "\u001b[1;31mPermissionError\u001b[0m                           Traceback (most recent call last)",
      "Cell \u001b[1;32mIn[42], line 8\u001b[0m\n\u001b[0;32m      1\u001b[0m \u001b[38;5;66;03m# write a sheet containing the measure definitions\u001b[39;00m\n\u001b[0;32m      2\u001b[0m measure_defs_df \u001b[38;5;241m=\u001b[39m pd\u001b[38;5;241m.\u001b[39mDataFrame({\n\u001b[0;32m      3\u001b[0m     \u001b[38;5;124m'\u001b[39m\u001b[38;5;124mSector\u001b[39m\u001b[38;5;124m'\u001b[39m: pd\u001b[38;5;241m.\u001b[39mSeries(sd_df[\u001b[38;5;124m'\u001b[39m\u001b[38;5;124mSector\u001b[39m\u001b[38;5;124m'\u001b[39m]\u001b[38;5;241m.\u001b[39munique())\u001b[38;5;241m.\u001b[39msort_values(),\n\u001b[0;32m      4\u001b[0m     \u001b[38;5;124m'\u001b[39m\u001b[38;5;124mSubsector\u001b[39m\u001b[38;5;124m'\u001b[39m: pd\u001b[38;5;241m.\u001b[39mSeries(sd_df[\u001b[38;5;124m'\u001b[39m\u001b[38;5;124mSubsector\u001b[39m\u001b[38;5;124m'\u001b[39m]\u001b[38;5;241m.\u001b[39munique())\u001b[38;5;241m.\u001b[39msort_values(),\n\u001b[0;32m      5\u001b[0m     \u001b[38;5;124m'\u001b[39m\u001b[38;5;124mMeasure Name\u001b[39m\u001b[38;5;124m'\u001b[39m: pd\u001b[38;5;241m.\u001b[39mSeries(sd_df[\u001b[38;5;124m'\u001b[39m\u001b[38;5;124mMeasure Name\u001b[39m\u001b[38;5;124m'\u001b[39m]\u001b[38;5;241m.\u001b[39munique())\u001b[38;5;241m.\u001b[39msort_values(),\n\u001b[0;32m      6\u001b[0m     \u001b[38;5;241m*\u001b[39m\u001b[38;5;241m*\u001b[39m{\u001b[38;5;124mf\u001b[39m\u001b[38;5;124m'\u001b[39m\u001b[38;5;124mCategory\u001b[39m\u001b[38;5;132;01m{\u001b[39;00mi\u001b[38;5;241m+\u001b[39m\u001b[38;5;241m3\u001b[39m\u001b[38;5;132;01m}\u001b[39;00m\u001b[38;5;124m: \u001b[39m\u001b[38;5;132;01m{\u001b[39;00mcategory\u001b[38;5;132;01m}\u001b[39;00m\u001b[38;5;124m'\u001b[39m: pd\u001b[38;5;241m.\u001b[39mSeries(sd_df[\u001b[38;5;124mf\u001b[39m\u001b[38;5;124m'\u001b[39m\u001b[38;5;124mCategory\u001b[39m\u001b[38;5;132;01m{\u001b[39;00mi\u001b[38;5;241m+\u001b[39m\u001b[38;5;241m3\u001b[39m\u001b[38;5;132;01m}\u001b[39;00m\u001b[38;5;124m: \u001b[39m\u001b[38;5;132;01m{\u001b[39;00mcategory\u001b[38;5;132;01m}\u001b[39;00m\u001b[38;5;124m'\u001b[39m]\u001b[38;5;241m.\u001b[39munique())\u001b[38;5;241m.\u001b[39msort_values() \u001b[38;5;28;01mfor\u001b[39;00m i, category \u001b[38;5;129;01min\u001b[39;00m \u001b[38;5;28menumerate\u001b[39m(nzip\u001b[38;5;241m.\u001b[39mCATEGORIES)}\n\u001b[0;32m      7\u001b[0m })\n\u001b[1;32m----> 8\u001b[0m \u001b[38;5;28;01mwith\u001b[39;00m pd\u001b[38;5;241m.\u001b[39mExcelWriter(output_file, mode\u001b[38;5;241m=\u001b[39m\u001b[38;5;124m'\u001b[39m\u001b[38;5;124ma\u001b[39m\u001b[38;5;124m'\u001b[39m, if_sheet_exists\u001b[38;5;241m=\u001b[39m\u001b[38;5;124m'\u001b[39m\u001b[38;5;124mreplace\u001b[39m\u001b[38;5;124m'\u001b[39m) \u001b[38;5;28;01mas\u001b[39;00m writer:\n\u001b[0;32m      9\u001b[0m     measure_defs_df\u001b[38;5;241m.\u001b[39mto_excel(writer, index\u001b[38;5;241m=\u001b[39m\u001b[38;5;28;01mFalse\u001b[39;00m, sheet_name\u001b[38;5;241m=\u001b[39m\u001b[38;5;124m'\u001b[39m\u001b[38;5;124mMeasure definitions\u001b[39m\u001b[38;5;124m'\u001b[39m)\n",
      "File \u001b[1;32mc:\\Users\\sv000048\\AppData\\Local\\anaconda3\\Lib\\site-packages\\pandas\\io\\excel\\_openpyxl.py:60\u001b[0m, in \u001b[0;36mOpenpyxlWriter.__init__\u001b[1;34m(self, path, engine, date_format, datetime_format, mode, storage_options, if_sheet_exists, engine_kwargs, **kwargs)\u001b[0m\n\u001b[0;32m     56\u001b[0m \u001b[38;5;28;01mfrom\u001b[39;00m \u001b[38;5;21;01mopenpyxl\u001b[39;00m\u001b[38;5;21;01m.\u001b[39;00m\u001b[38;5;21;01mworkbook\u001b[39;00m \u001b[38;5;28;01mimport\u001b[39;00m Workbook\n\u001b[0;32m     58\u001b[0m engine_kwargs \u001b[38;5;241m=\u001b[39m combine_kwargs(engine_kwargs, kwargs)\n\u001b[1;32m---> 60\u001b[0m \u001b[38;5;28msuper\u001b[39m()\u001b[38;5;241m.\u001b[39m\u001b[38;5;21m__init__\u001b[39m(\n\u001b[0;32m     61\u001b[0m     path,\n\u001b[0;32m     62\u001b[0m     mode\u001b[38;5;241m=\u001b[39mmode,\n\u001b[0;32m     63\u001b[0m     storage_options\u001b[38;5;241m=\u001b[39mstorage_options,\n\u001b[0;32m     64\u001b[0m     if_sheet_exists\u001b[38;5;241m=\u001b[39mif_sheet_exists,\n\u001b[0;32m     65\u001b[0m     engine_kwargs\u001b[38;5;241m=\u001b[39mengine_kwargs,\n\u001b[0;32m     66\u001b[0m )\n\u001b[0;32m     68\u001b[0m \u001b[38;5;66;03m# ExcelWriter replaced \"a\" by \"r+\" to allow us to first read the excel file from\u001b[39;00m\n\u001b[0;32m     69\u001b[0m \u001b[38;5;66;03m# the file and later write to it\u001b[39;00m\n\u001b[0;32m     70\u001b[0m \u001b[38;5;28;01mif\u001b[39;00m \u001b[38;5;124m\"\u001b[39m\u001b[38;5;124mr+\u001b[39m\u001b[38;5;124m\"\u001b[39m \u001b[38;5;129;01min\u001b[39;00m \u001b[38;5;28mself\u001b[39m\u001b[38;5;241m.\u001b[39m_mode:  \u001b[38;5;66;03m# Load from existing workbook\u001b[39;00m\n",
      "File \u001b[1;32mc:\\Users\\sv000048\\AppData\\Local\\anaconda3\\Lib\\site-packages\\pandas\\io\\excel\\_base.py:1313\u001b[0m, in \u001b[0;36mExcelWriter.__init__\u001b[1;34m(self, path, engine, date_format, datetime_format, mode, storage_options, if_sheet_exists, engine_kwargs, **kwargs)\u001b[0m\n\u001b[0;32m   1309\u001b[0m \u001b[38;5;28mself\u001b[39m\u001b[38;5;241m.\u001b[39m_handles \u001b[38;5;241m=\u001b[39m IOHandles(\n\u001b[0;32m   1310\u001b[0m     cast(IO[\u001b[38;5;28mbytes\u001b[39m], path), compression\u001b[38;5;241m=\u001b[39m{\u001b[38;5;124m\"\u001b[39m\u001b[38;5;124mcompression\u001b[39m\u001b[38;5;124m\"\u001b[39m: \u001b[38;5;28;01mNone\u001b[39;00m}\n\u001b[0;32m   1311\u001b[0m )\n\u001b[0;32m   1312\u001b[0m \u001b[38;5;28;01mif\u001b[39;00m \u001b[38;5;129;01mnot\u001b[39;00m \u001b[38;5;28misinstance\u001b[39m(path, ExcelWriter):\n\u001b[1;32m-> 1313\u001b[0m     \u001b[38;5;28mself\u001b[39m\u001b[38;5;241m.\u001b[39m_handles \u001b[38;5;241m=\u001b[39m get_handle(\n\u001b[0;32m   1314\u001b[0m         path, mode, storage_options\u001b[38;5;241m=\u001b[39mstorage_options, is_text\u001b[38;5;241m=\u001b[39m\u001b[38;5;28;01mFalse\u001b[39;00m\n\u001b[0;32m   1315\u001b[0m     )\n\u001b[0;32m   1316\u001b[0m \u001b[38;5;28mself\u001b[39m\u001b[38;5;241m.\u001b[39m_cur_sheet \u001b[38;5;241m=\u001b[39m \u001b[38;5;28;01mNone\u001b[39;00m\n\u001b[0;32m   1318\u001b[0m \u001b[38;5;28;01mif\u001b[39;00m date_format \u001b[38;5;129;01mis\u001b[39;00m \u001b[38;5;28;01mNone\u001b[39;00m:\n",
      "File \u001b[1;32mc:\\Users\\sv000048\\AppData\\Local\\anaconda3\\Lib\\site-packages\\pandas\\io\\common.py:865\u001b[0m, in \u001b[0;36mget_handle\u001b[1;34m(path_or_buf, mode, encoding, compression, memory_map, is_text, errors, storage_options)\u001b[0m\n\u001b[0;32m    856\u001b[0m         handle \u001b[38;5;241m=\u001b[39m \u001b[38;5;28mopen\u001b[39m(\n\u001b[0;32m    857\u001b[0m             handle,\n\u001b[0;32m    858\u001b[0m             ioargs\u001b[38;5;241m.\u001b[39mmode,\n\u001b[1;32m   (...)\u001b[0m\n\u001b[0;32m    861\u001b[0m             newline\u001b[38;5;241m=\u001b[39m\u001b[38;5;124m\"\u001b[39m\u001b[38;5;124m\"\u001b[39m,\n\u001b[0;32m    862\u001b[0m         )\n\u001b[0;32m    863\u001b[0m     \u001b[38;5;28;01melse\u001b[39;00m:\n\u001b[0;32m    864\u001b[0m         \u001b[38;5;66;03m# Binary mode\u001b[39;00m\n\u001b[1;32m--> 865\u001b[0m         handle \u001b[38;5;241m=\u001b[39m \u001b[38;5;28mopen\u001b[39m(handle, ioargs\u001b[38;5;241m.\u001b[39mmode)\n\u001b[0;32m    866\u001b[0m     handles\u001b[38;5;241m.\u001b[39mappend(handle)\n\u001b[0;32m    868\u001b[0m \u001b[38;5;66;03m# Convert BytesIO or file objects passed with an encoding\u001b[39;00m\n",
      "\u001b[1;31mPermissionError\u001b[0m: [Errno 13] Permission denied: 'sd-Industry-test.xlsx'"
     ]
    }
   ],
   "source": [
    "# write a sheet containing the measure definitions\n",
    "measure_defs_df = pd.DataFrame({\n",
    "    'Sector': pd.Series(sd_df['Sector'].unique()).sort_values(),\n",
    "    'Subsector': pd.Series(sd_df['Subsector'].unique()).sort_values(),\n",
    "    'Measure Name': pd.Series(sd_df['Measure Name'].unique()).sort_values(),\n",
    "    **{f'Category{i+3}: {category}': pd.Series(sd_df[f'Category{i+3}: {category}'].unique()).sort_values() for i, category in enumerate(nzip.CATEGORIES)}\n",
    "})\n",
    "with pd.ExcelWriter(output_file, mode='a', if_sheet_exists='replace') as writer:\n",
    "    measure_defs_df.to_excel(writer, index=False, sheet_name='Measure definitions')\n"
   ]
  },
  {
   "cell_type": "markdown",
   "metadata": {},
   "source": [
    "### Baseline pathway\n",
    "\n",
    "Now we have computed the measure level sector databook outputs, we can compute the baseline pathway in a similar fashion."
   ]
  },
  {
   "cell_type": "code",
   "execution_count": null,
   "metadata": {},
   "outputs": [],
   "source": [
    "baseline_kwargs = [\n",
    "    {\n",
    "        \"timeseries\": \"Baseline emissions (MtCO2e)\",\n",
    "        \"variable_name\": \"Baseline emissions CO2\",\n",
    "        \"variable_unit\": \"MtCO2\",\n",
    "        \"weight_col\": \"% CARBON Emissions\",\n",
    "    },\n",
    "    {\n",
    "        \"timeseries\": \"Baseline emissions (MtCO2e)\",\n",
    "        \"variable_name\": \"Baseline emissions CH4\",\n",
    "        \"variable_unit\": \"MtCO2e\",\n",
    "        \"weight_col\": \"% CH4 Emissions\",\n",
    "    },\n",
    "    {\n",
    "        \"timeseries\": \"Baseline emissions (MtCO2e)\",\n",
    "        \"variable_name\": \"Baseline emissions N2O\",\n",
    "        \"variable_unit\": \"MtCO2e\",\n",
    "        \"weight_col\": \"% N2O Emissions\",\n",
    "    },\n",
    "    {\n",
    "        \"timeseries\": \"Baseline electricity use (GWh)\",\n",
    "        \"variable_name\": \"Baseline demand electricity\",\n",
    "        \"variable_unit\": \"TWh\",\n",
    "        \"scale\": 1e-3,\n",
    "    },\n",
    "    {\n",
    "        \"timeseries\": \"Baseline in natural gas use (GWh)\",\n",
    "        \"variable_name\": \"Baseline demand gas\",\n",
    "        \"variable_unit\": \"TWh\",\n",
    "        \"scale\": 1e-3,\n",
    "    },\n",
    "    {\n",
    "        \"timeseries\": \"Baseline in petroleum use (GWh)\",\n",
    "        \"variable_name\": \"Baseline demand petroleum\",\n",
    "        \"variable_unit\": \"TWh\",\n",
    "        \"scale\": 1e-3,\n",
    "    },\n",
    "    {\n",
    "        \"timeseries\": \"Baseline in solid fuel use (GWh)\",\n",
    "        \"variable_name\": \"Baseline demand solid fuel\",\n",
    "        \"variable_unit\": \"TWh\",\n",
    "        \"scale\": 1e-3,\n",
    "    },\n",
    "    {\n",
    "        \"timeseries\": \"Baseline in primary bioenergy use (GWh)\",\n",
    "        \"variable_name\": \"Baseline demand final bioenergy\",\n",
    "        \"variable_unit\": \"TWh\",\n",
    "        \"scale\": 1e-3,\n",
    "    },\n",
    "    {\n",
    "        \"timeseries\": \"Baseline in hydrogen use (GWh)\",\n",
    "        \"variable_name\": \"Baseline demand hydrogen\",\n",
    "        \"variable_unit\": \"TWh\",\n",
    "        \"scale\": 1e-3,\n",
    "    },\n",
    "    {\n",
    "        \"timeseries\": \"Counterfactual capex (£m)\",\n",
    "        \"variable_name\": \"Baseline capital expenditure\",\n",
    "        \"variable_unit\": \"£m\",\n",
    "    },\n",
    "    {\n",
    "        \"timeseries\": \"Counterfactual opex (£m)\",\n",
    "        \"variable_name\": \"Baseline operating expenditure\",\n",
    "        \"variable_unit\": \"£m\",\n",
    "    },\n",
    "]"
   ]
  },
  {
   "cell_type": "code",
   "execution_count": null,
   "metadata": {},
   "outputs": [],
   "source": [
    "bl_df = nzip.sd_measure_level(df, baseline_kwargs, baseline=True)\n",
    "bl_df = nzip.baseline_from_measure_level(bl_df)\n",
    "with pd.ExcelWriter(output_file, mode='a', if_sheet_exists='replace') as writer:\n",
    "    bl_df.to_excel(writer, index=False, sheet_name='Baseline data')"
   ]
  },
  {
   "cell_type": "markdown",
   "metadata": {},
   "source": [
    "### Aggregate results\n",
    "\n",
    "Finally, we can aggregate the measure level and baseline pathway outputs to produce the final sector databook outputs."
   ]
  },
  {
   "cell_type": "code",
   "execution_count": null,
   "metadata": {},
   "outputs": [],
   "source": [
    "agg_df = nzip.get_aggregate_df(df, measure_level_kwargs, baseline_kwargs, nzip.SECTOR)\n",
    "with pd.ExcelWriter(output_file, mode='a', if_sheet_exists='replace') as writer:\n",
    "    agg_df.to_excel(writer, index=False, sheet_name='Aggregate data')"
   ]
  },
  {
   "cell_type": "markdown",
   "metadata": {},
   "source": [
    "# Finished!\n",
    "\n",
    "Now you can just run the cell below to download the results!"
   ]
  },
  {
   "cell_type": "code",
   "execution_count": null,
   "metadata": {},
   "outputs": [],
   "source": [
    "if colab:\n",
    "    files.download(output_file) "
   ]
  }
 ],
 "metadata": {
  "kernelspec": {
   "display_name": "base",
   "language": "python",
   "name": "python3"
  },
  "language_info": {
   "codemirror_mode": {
    "name": "ipython",
    "version": 3
   },
   "file_extension": ".py",
   "mimetype": "text/x-python",
   "name": "python",
   "nbconvert_exporter": "python",
   "pygments_lexer": "ipython3",
   "version": "3.11.5"
  }
 },
 "nbformat": 4,
 "nbformat_minor": 2
}
