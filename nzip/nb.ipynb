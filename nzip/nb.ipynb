{
 "cells": [
  {
   "cell_type": "code",
   "execution_count": 80,
   "metadata": {},
   "outputs": [],
   "source": [
    "import pandas as pd\n",
    "from thefuzz import process"
   ]
  },
  {
   "cell_type": "code",
   "execution_count": 218,
   "metadata": {},
   "outputs": [],
   "source": [
    "START_YEAR = 2021\n",
    "END_YEAR = 2050\n",
    "DEVOLVED_AUTHS = ['United Kingdom', 'Scotland', 'Wales', 'Northern Ireland']\n",
    "GASES = ['CARBON', 'CH4', 'N2O']\n",
    "SD_COLUMNS = ['Country', 'Sector', 'Subsector', 'Category1 EE_sector', 'Category2 Process', 'Category3 Tech', 'Measure Name', 'Measure Variable', 'Variable Unit'] + list(range(START_YEAR, END_YEAR+1))\n",
    "OUTPUT_FILE = 'sd-industry-test.xlsx'"
   ]
  },
  {
   "cell_type": "markdown",
   "metadata": {},
   "source": [
    "### Load data"
   ]
  },
  {
   "cell_type": "markdown",
   "metadata": {},
   "source": [
    "#### Step 1: Get measure definitions"
   ]
  },
  {
   "cell_type": "code",
   "execution_count": 219,
   "metadata": {},
   "outputs": [
    {
     "name": "stderr",
     "output_type": "stream",
     "text": [
      "c:\\Users\\sv000048\\AppData\\Local\\anaconda3\\Lib\\site-packages\\openpyxl\\worksheet\\_read_only.py:79: UserWarning: Data Validation extension is not supported and will be removed\n",
      "  for idx, row in parser.parse():\n"
     ]
    }
   ],
   "source": [
    "industry_model_path = 'Sam Industry Model.xlsx'\n",
    "with open(industry_model_path, 'rb') as f:\n",
    "    measure_defs = pd.read_excel(f, 'Measure definitions', header=12, usecols='B:D')\n",
    "measure_defs = measure_defs.dropna()\n",
    "industry_sectors = measure_defs['EE Sector']\n",
    "industry_process = measure_defs['Process']\n",
    "industry_tech = measure_defs['Abatement Technology']"
   ]
  },
  {
   "cell_type": "code",
   "execution_count": 220,
   "metadata": {},
   "outputs": [
    {
     "data": {
      "text/html": [
       "<div>\n",
       "<style scoped>\n",
       "    .dataframe tbody tr th:only-of-type {\n",
       "        vertical-align: middle;\n",
       "    }\n",
       "\n",
       "    .dataframe tbody tr th {\n",
       "        vertical-align: top;\n",
       "    }\n",
       "\n",
       "    .dataframe thead th {\n",
       "        text-align: right;\n",
       "    }\n",
       "</style>\n",
       "<table border=\"1\" class=\"dataframe\">\n",
       "  <thead>\n",
       "    <tr style=\"text-align: right;\">\n",
       "      <th></th>\n",
       "      <th>CCC sector</th>\n",
       "      <th>EE sector</th>\n",
       "      <th>Process</th>\n",
       "    </tr>\n",
       "  </thead>\n",
       "  <tbody>\n",
       "    <tr>\n",
       "      <th>0</th>\n",
       "      <td>Industry</td>\n",
       "      <td>Cement</td>\n",
       "      <td>Kiln - Cement</td>\n",
       "    </tr>\n",
       "    <tr>\n",
       "      <th>1</th>\n",
       "      <td>Industry</td>\n",
       "      <td>Cement</td>\n",
       "      <td>Process CO2 - Cement</td>\n",
       "    </tr>\n",
       "    <tr>\n",
       "      <th>2</th>\n",
       "      <td>Industry</td>\n",
       "      <td>Cement</td>\n",
       "      <td>Biomass Process</td>\n",
       "    </tr>\n",
       "    <tr>\n",
       "      <th>4</th>\n",
       "      <td>Industry</td>\n",
       "      <td>Ethylene</td>\n",
       "      <td>Boiler - Steam (Non BECCS allowed)</td>\n",
       "    </tr>\n",
       "    <tr>\n",
       "      <th>5</th>\n",
       "      <td>Industry</td>\n",
       "      <td>Ethylene</td>\n",
       "      <td>Combustion CO2 - Reforming</td>\n",
       "    </tr>\n",
       "    <tr>\n",
       "      <th>...</th>\n",
       "      <td>...</td>\n",
       "      <td>...</td>\n",
       "      <td>...</td>\n",
       "    </tr>\n",
       "    <tr>\n",
       "      <th>91</th>\n",
       "      <td>Industry</td>\n",
       "      <td>Vehicles</td>\n",
       "      <td>Oven - Vehicles</td>\n",
       "    </tr>\n",
       "    <tr>\n",
       "      <th>100</th>\n",
       "      <td>Industry</td>\n",
       "      <td>Construction</td>\n",
       "      <td>Generators</td>\n",
       "    </tr>\n",
       "    <tr>\n",
       "      <th>101</th>\n",
       "      <td>Industry</td>\n",
       "      <td>Construction</td>\n",
       "      <td>Lubrication</td>\n",
       "    </tr>\n",
       "    <tr>\n",
       "      <th>102</th>\n",
       "      <td>Industry</td>\n",
       "      <td>Ammonia</td>\n",
       "      <td>Combustion CO2 - Reforming</td>\n",
       "    </tr>\n",
       "    <tr>\n",
       "      <th>103</th>\n",
       "      <td>Industry</td>\n",
       "      <td>Ammonia</td>\n",
       "      <td>Process CO2 - Reforming</td>\n",
       "    </tr>\n",
       "  </tbody>\n",
       "</table>\n",
       "<p>70 rows × 3 columns</p>\n",
       "</div>"
      ],
      "text/plain": [
       "    CCC sector     EE sector                             Process\n",
       "0     Industry        Cement                       Kiln - Cement\n",
       "1     Industry        Cement                Process CO2 - Cement\n",
       "2     Industry        Cement                     Biomass Process\n",
       "4     Industry      Ethylene  Boiler - Steam (Non BECCS allowed)\n",
       "5     Industry      Ethylene          Combustion CO2 - Reforming\n",
       "..         ...           ...                                 ...\n",
       "91    Industry      Vehicles                     Oven - Vehicles\n",
       "100   Industry  Construction                          Generators\n",
       "101   Industry  Construction                         Lubrication\n",
       "102   Industry       Ammonia          Combustion CO2 - Reforming\n",
       "103   Industry       Ammonia             Process CO2 - Reforming\n",
       "\n",
       "[70 rows x 3 columns]"
      ]
     },
     "execution_count": 220,
     "metadata": {},
     "output_type": "execute_result"
    }
   ],
   "source": [
    "nzip_defs_path = 'NZIP_Sector_Process.xlsx'\n",
    "with open(nzip_defs_path, 'rb') as f:\n",
    "    nzip_defs_df = pd.read_excel(f, 'Sheet1')\n",
    "industry_defs = nzip_defs_df.loc[nzip_defs_df['CCC sector'] == 'Industry']\n",
    "industry_defs"
   ]
  },
  {
   "cell_type": "markdown",
   "metadata": {},
   "source": [
    "#### Step 2: load NZIP Outputs"
   ]
  },
  {
   "cell_type": "code",
   "execution_count": 221,
   "metadata": {},
   "outputs": [],
   "source": [
    "#nzip_path = 'N-ZIP Model - V1.1.xlsb'\n",
    "nzip_path = 'N-ZIP-Model_version1_2_AG_updated_19_12_2023.xlsb'\n",
    "with open(nzip_path, 'rb') as f:\n",
    "    df = pd.read_excel(f, 'CCC Outputs', header=10, usecols='F:CWV')"
   ]
  },
  {
   "cell_type": "code",
   "execution_count": 228,
   "metadata": {},
   "outputs": [
    {
     "name": "stdout",
     "output_type": "stream",
     "text": [
      "length before: 4414\n",
      "length after: 4414\n"
     ]
    }
   ],
   "source": [
    "print('length before:', len(df))\n",
    "df = df.loc[df['Element_sector'].isin(industry_defs['EE sector']) & df['Process'].isin(industry_defs['Process'])]\n",
    "print('length after:', len(df))"
   ]
  },
  {
   "cell_type": "code",
   "execution_count": 229,
   "metadata": {},
   "outputs": [],
   "source": [
    "# fix missing values\n",
    "df['Selected Option'] = df['Selected Option'].fillna('')\n",
    "\n",
    "df['% CARBON Emissions'] = pd.to_numeric(df['% CARBON Emissions'], errors='coerce')\n",
    "df['% CH4 Emissions'] = pd.to_numeric(df['% CH4 Emissions'], errors='coerce')\n",
    "df['% N2O Emissions'] = pd.to_numeric(df['% N2O Emissions'], errors='coerce')\n",
    "for y in range(START_YEAR, END_YEAR+1):\n",
    "    df[f'Total AM costs (£m) {y}'] = pd.to_numeric(df[f'Total AM costs (£m) {y}'], errors='coerce')\n",
    "    df[f'AM opex (£m) {y}'] = pd.to_numeric(df[f'AM opex (£m) {y}'], errors='coerce')\n",
    "    df[f'AM fuel costs (£m) {y}'] = pd.to_numeric(df[f'AM fuel costs (£m) {y}'], errors='coerce')\n",
    "\n",
    "# anything that's not a number is given a value of 0\n",
    "df = df.fillna(0)\n",
    "\n"
   ]
  },
  {
   "cell_type": "code",
   "execution_count": 310,
   "metadata": {},
   "outputs": [
    {
     "data": {
      "text/plain": [
       "[('Traded / non-traded', 90),\n",
       " ('Abatement Rate', 60),\n",
       " ('Average direct abatement cost (£/tCO2e) 2016', 60),\n",
       " ('Average direct abatement cost (£/tCO2e) 2017', 60),\n",
       " ('Average direct abatement cost (£/tCO2e) 2018', 60)]"
      ]
     },
     "execution_count": 310,
     "metadata": {},
     "output_type": "execute_result"
    }
   ],
   "source": [
    "# seach columns with thefuzz\n",
    "process.extract('traded', cols, limit=5)"
   ]
  },
  {
   "cell_type": "markdown",
   "metadata": {},
   "source": [
    "### Abatement emissions"
   ]
  },
  {
   "cell_type": "code",
   "execution_count": 311,
   "metadata": {},
   "outputs": [],
   "source": [
    "sector_map = {\n",
    " 'Cement': 'Cement and Lime',\n",
    " 'Compressor Station': 'Fossil fuel production',\n",
    " 'Ethylene': 'Chemicals',\n",
    " 'Food & Drink': 'Food, Drink, Tobacco',\n",
    " 'Gas Terminal': 'Fossil fuel production',\n",
    " 'Glass': 'Glass and other minerals',\n",
    " 'Iron (Port Talbot Scunthorpe)': 'Iron & Steel',\n",
    " 'Lime': 'Cement and Lime',\n",
    " 'LNG Terminal': 'Fossil fuel production',\n",
    " 'Non ferrous metal': 'Non ferrous metals',\n",
    " 'Gas Platform': 'Fossil fuel production',\n",
    " 'Oil Terminal': 'Fossil fuel production',\n",
    " 'Other Chemicals': 'Chemicals',\n",
    " 'Other Fuel Production': 'Fossil fuel production',\n",
    " 'Other industry': 'Other manufacturing and construction',\n",
    " 'Other Iron and Steel': 'Iron & Steel',\n",
    " 'Other Minerals': 'Glass and other minerals',\n",
    " 'Paper': 'Paper, Pulp, Print',\n",
    " 'Refining': 'Refining',\n",
    " 'Vehicles': 'Vehicles',\n",
    " 'Waste Processing': 'Water and waste management',\n",
    " 'Coal Mine (closed)': 'Coal mines',\n",
    " 'Coal Mine (open)': 'Coal mines',\n",
    " 'Gas Distribution': 'Fossil fuel production',\n",
    " 'Construction': 'Other manufacturing and construction',\n",
    " 'Ammonia': 'Chemicals',\n",
    " 'Oil Platform': 'Fossil fuel production',\n",
    " 'Shale Gas': 'Fossil fuel production',\n",
    " 'Off-road mobile machinery': 'Off-road mobile machinery'\n",
    "}\n"
   ]
  },
  {
   "cell_type": "code",
   "execution_count": 333,
   "metadata": {},
   "outputs": [],
   "source": [
    "def sector_databook_format(df, variable_name, variable_unit):\n",
    "    df = df.reset_index()\n",
    "    df['Sector'] = 'Industry'\n",
    "    df['Subsector'] = df['Element_sector'].map(sector_map)\n",
    "    df['Measure Name'] = df['Element_sector'] + '_' + df['Process'] + '_' + df['Selected Option']\n",
    "    df['Measure Variable'] = variable_name\n",
    "    df['Variable Unit'] = variable_unit\n",
    "    df['Category1 EE_sector'] = df['Element_sector']\n",
    "    df['Category2 Process'] = df['Process']\n",
    "    df['Category3 Tech'] = df['Selected Option']\n",
    "    df = df[SD_COLUMNS]\n",
    "    return df\n",
    "\n",
    "def aggregate_timeseries_country(df, timeseries, variable_name, variable_unit, weight_col=None, country='United Kingdom', scale=None):\n",
    "\n",
    "    # get the emissions time series columns\n",
    "    total_emissions_cols = [f'{timeseries} {y}' for y in range(START_YEAR, END_YEAR+1)]\n",
    "    emissions_cols = list(range(START_YEAR, END_YEAR+1))\n",
    "    df[emissions_cols] = df[total_emissions_cols].copy()\n",
    "\n",
    "    # multiply by another column and/or then scale by a fixed value\n",
    "    if weight_col:\n",
    "        df[emissions_cols] = df[emissions_cols].multiply(df[weight_col], axis=0)\n",
    "    if scale:\n",
    "        df[emissions_cols] = df[emissions_cols] * scale\n",
    "\n",
    "    # sum rows corresponding to the same measure\n",
    "    agg_emissions_df = df.groupby(['Element_sector', 'Process', 'Selected Option'])[emissions_cols].sum()\n",
    "\n",
    "    # add country column\n",
    "    agg_emissions_df['Country'] = country\n",
    "\n",
    "    # format as sector databook\n",
    "    df = sector_databook_format(agg_emissions_df, variable_name, variable_unit)\n",
    "\n",
    "    return df\n",
    "\n",
    "def aggregate_timeseries(df, **kwargs):\n",
    "    # go through each country and combine the results\n",
    "    dfs = [aggregate_timeseries_country(df, country=country, **kwargs) for country in DEVOLVED_AUTHS]\n",
    "    df = pd.concat(dfs)\n",
    "    return df"
   ]
  },
  {
   "cell_type": "code",
   "execution_count": 334,
   "metadata": {},
   "outputs": [],
   "source": [
    "# add capex and opex cols\n",
    "for y in range(START_YEAR, END_YEAR+1):\n",
    "    df[f'capex {y}'] = df[f'AM capex (£m) {y}'] - df[f'Counterfactual capex (£m) {y}']\n",
    "    df[f'opex {y}'] = df[f'AM opex (£m) {y}'] + df[f'AM fuel costs (£m) {y}'] - (df[f'Counterfactual opex (£m) {y}'] + df[f'Counterfactual fuel costs (£m) {y}'])"
   ]
  },
  {
   "cell_type": "code",
   "execution_count": 335,
   "metadata": {},
   "outputs": [],
   "source": [
    "function_calls = [\n",
    "    # Add total direct and indirect emissions\n",
    "    {\n",
    "        \"timeseries\": \"Total direct emissions abated (MtCO2e)\",\n",
    "        \"variable_name\": \"Abatement total direct\",\n",
    "        \"variable_unit\": \"MtCO2e\",\n",
    "    },\n",
    "    {\n",
    "        \"timeseries\": \"Total indirect emissions abated (MtCO2e)\",\n",
    "        \"variable_name\": \"Abatement total indirect\",\n",
    "        \"variable_unit\": \"MtCO2e\",\n",
    "    },\n",
    "\n",
    "    # Add emissions by gas\n",
    "    {\n",
    "        \"timeseries\": \"Total direct emissions abated (MtCO2e)\",\n",
    "        \"variable_name\": \"Abatement emissions CO2\",\n",
    "        \"variable_unit\": \"MtCO2\",\n",
    "        \"weight_col\": \"% CARBON Emissions\",\n",
    "    },\n",
    "    {\n",
    "        \"timeseries\": \"Total direct emissions abated (MtCO2e)\",\n",
    "        \"variable_name\": \"Abatement emissions CH4\",\n",
    "        \"variable_unit\": \"MtCO2e\",\n",
    "        \"weight_col\": \"% CH4 Emissions\",\n",
    "    },\n",
    "    {\n",
    "        \"timeseries\": \"Total direct emissions abated (MtCO2e)\",\n",
    "        \"variable_name\": \"Abatement emissions N20\",\n",
    "        \"variable_unit\": \"MtCO2e\",\n",
    "        \"weight_col\": \"% N2O Emissions\",\n",
    "    },\n",
    "\n",
    "    # Add demand\n",
    "    {\n",
    "        \"timeseries\": \"Change in electricity use (GWh)\",\n",
    "        \"variable_name\": \"Additional demand electricity\",\n",
    "        \"variable_unit\": \"TWh\",\n",
    "        \"scale\": 1e-3,\n",
    "    },\n",
    "    {\n",
    "        \"timeseries\": \"Change in natural gas use (GWh)\",\n",
    "        \"variable_name\": \"Additional demand gas\",\n",
    "        \"variable_unit\": \"TWh\",\n",
    "        \"scale\": 1e-3,\n",
    "    },\n",
    "    {\n",
    "        \"timeseries\": \"Change in petroleum use (GWh)\",\n",
    "        \"variable_name\": \"Additional demand petroleum\",\n",
    "        \"variable_unit\": \"TWh\",\n",
    "        \"scale\": 1e-3,\n",
    "    },\n",
    "    {\n",
    "        \"timeseries\": \"Change in solid fuel use (GWh)\",\n",
    "        \"variable_name\": \"Additional demand solid fuel\",\n",
    "        \"variable_unit\": \"TWh\",\n",
    "        \"scale\": 1e-3,\n",
    "    },\n",
    "    {\n",
    "        \"timeseries\": \"Change in primary bioenergy use (GWh)\",\n",
    "        \"variable_name\": \"Additional demand final bioenergy\",\n",
    "        \"variable_unit\": \"TWh\",\n",
    "        \"scale\": 1e-3,\n",
    "    },\n",
    "    {\n",
    "        \"timeseries\": \"Change in hydrogen use (GWh)\",\n",
    "        \"variable_name\": \"Additional demand hydrogen\",\n",
    "        \"variable_unit\": \"TWh\",\n",
    "        \"scale\": 1e-3,\n",
    "    },\n",
    "\n",
    "    # Add capex and opex\n",
    "    {\n",
    "        \"timeseries\": \"capex\",\n",
    "        \"variable_name\": \"Additional capital expenditure\",\n",
    "        \"variable_unit\": \"£m\",\n",
    "    },\n",
    "    {\n",
    "        \"timeseries\": \"opex\",\n",
    "        \"variable_name\": \"Additional operational expenditure\",\n",
    "        \"variable_unit\": \"£m\",\n",
    "    },\n",
    "]"
   ]
  },
  {
   "cell_type": "code",
   "execution_count": 336,
   "metadata": {},
   "outputs": [],
   "source": [
    "sd_df = pd.DataFrame(columns=SD_COLUMNS)\n",
    "for args in function_calls:\n",
    "    sd_df = pd.concat([sd_df, aggregate_timeseries(df, **args)])"
   ]
  },
  {
   "cell_type": "code",
   "execution_count": 337,
   "metadata": {},
   "outputs": [
    {
     "data": {
      "text/html": [
       "<div>\n",
       "<style scoped>\n",
       "    .dataframe tbody tr th:only-of-type {\n",
       "        vertical-align: middle;\n",
       "    }\n",
       "\n",
       "    .dataframe tbody tr th {\n",
       "        vertical-align: top;\n",
       "    }\n",
       "\n",
       "    .dataframe thead th {\n",
       "        text-align: right;\n",
       "    }\n",
       "</style>\n",
       "<table border=\"1\" class=\"dataframe\">\n",
       "  <thead>\n",
       "    <tr style=\"text-align: right;\">\n",
       "      <th></th>\n",
       "      <th>Country</th>\n",
       "      <th>Sector</th>\n",
       "      <th>Subsector</th>\n",
       "      <th>Category1 EE_sector</th>\n",
       "      <th>Category2 Process</th>\n",
       "      <th>Category3 Tech</th>\n",
       "      <th>Measure Name</th>\n",
       "      <th>Measure Variable</th>\n",
       "      <th>Variable Unit</th>\n",
       "      <th>2020</th>\n",
       "      <th>...</th>\n",
       "      <th>2041</th>\n",
       "      <th>2042</th>\n",
       "      <th>2043</th>\n",
       "      <th>2044</th>\n",
       "      <th>2045</th>\n",
       "      <th>2046</th>\n",
       "      <th>2047</th>\n",
       "      <th>2048</th>\n",
       "      <th>2049</th>\n",
       "      <th>2050</th>\n",
       "    </tr>\n",
       "  </thead>\n",
       "  <tbody>\n",
       "    <tr>\n",
       "      <th>0</th>\n",
       "      <td>United Kingdom</td>\n",
       "      <td>Industry</td>\n",
       "      <td>Chemicals</td>\n",
       "      <td>Ammonia</td>\n",
       "      <td>Combustion CO2 - Reforming</td>\n",
       "      <td></td>\n",
       "      <td>Ammonia_Combustion CO2 - Reforming_</td>\n",
       "      <td>Abatement total direct</td>\n",
       "      <td>MtCO2e</td>\n",
       "      <td>0.0</td>\n",
       "      <td>...</td>\n",
       "      <td>0.000000</td>\n",
       "      <td>0.000000</td>\n",
       "      <td>0.000000</td>\n",
       "      <td>0.000000</td>\n",
       "      <td>0.000000</td>\n",
       "      <td>0.000000</td>\n",
       "      <td>0.000000</td>\n",
       "      <td>0.000000</td>\n",
       "      <td>0.000000</td>\n",
       "      <td>0.000000</td>\n",
       "    </tr>\n",
       "    <tr>\n",
       "      <th>1</th>\n",
       "      <td>United Kingdom</td>\n",
       "      <td>Industry</td>\n",
       "      <td>Chemicals</td>\n",
       "      <td>Ammonia</td>\n",
       "      <td>Combustion CO2 - Reforming</td>\n",
       "      <td>CCS - Advanced amines or blends</td>\n",
       "      <td>Ammonia_Combustion CO2 - Reforming_CCS - Advan...</td>\n",
       "      <td>Abatement total direct</td>\n",
       "      <td>MtCO2e</td>\n",
       "      <td>0.0</td>\n",
       "      <td>...</td>\n",
       "      <td>0.245961</td>\n",
       "      <td>0.245905</td>\n",
       "      <td>0.245849</td>\n",
       "      <td>0.245793</td>\n",
       "      <td>0.245738</td>\n",
       "      <td>0.245690</td>\n",
       "      <td>0.245643</td>\n",
       "      <td>0.245595</td>\n",
       "      <td>0.245548</td>\n",
       "      <td>0.245500</td>\n",
       "    </tr>\n",
       "    <tr>\n",
       "      <th>2</th>\n",
       "      <td>United Kingdom</td>\n",
       "      <td>Industry</td>\n",
       "      <td>Chemicals</td>\n",
       "      <td>Ammonia</td>\n",
       "      <td>Combustion CO2 - Reforming</td>\n",
       "      <td>CCS - Calcium Looping</td>\n",
       "      <td>Ammonia_Combustion CO2 - Reforming_CCS - Calci...</td>\n",
       "      <td>Abatement total direct</td>\n",
       "      <td>MtCO2e</td>\n",
       "      <td>0.0</td>\n",
       "      <td>...</td>\n",
       "      <td>0.164822</td>\n",
       "      <td>0.164784</td>\n",
       "      <td>0.164747</td>\n",
       "      <td>0.164709</td>\n",
       "      <td>0.164672</td>\n",
       "      <td>0.164640</td>\n",
       "      <td>0.164608</td>\n",
       "      <td>0.164576</td>\n",
       "      <td>0.164545</td>\n",
       "      <td>0.164513</td>\n",
       "    </tr>\n",
       "    <tr>\n",
       "      <th>3</th>\n",
       "      <td>United Kingdom</td>\n",
       "      <td>Industry</td>\n",
       "      <td>Chemicals</td>\n",
       "      <td>Ammonia</td>\n",
       "      <td>Process CO2 - Reforming</td>\n",
       "      <td></td>\n",
       "      <td>Ammonia_Process CO2 - Reforming_</td>\n",
       "      <td>Abatement total direct</td>\n",
       "      <td>MtCO2e</td>\n",
       "      <td>0.0</td>\n",
       "      <td>...</td>\n",
       "      <td>0.000000</td>\n",
       "      <td>0.000000</td>\n",
       "      <td>0.000000</td>\n",
       "      <td>0.000000</td>\n",
       "      <td>0.000000</td>\n",
       "      <td>0.000000</td>\n",
       "      <td>0.000000</td>\n",
       "      <td>0.000000</td>\n",
       "      <td>0.000000</td>\n",
       "      <td>0.000000</td>\n",
       "    </tr>\n",
       "    <tr>\n",
       "      <th>4</th>\n",
       "      <td>United Kingdom</td>\n",
       "      <td>Industry</td>\n",
       "      <td>Chemicals</td>\n",
       "      <td>Ammonia</td>\n",
       "      <td>Process CO2 - Reforming</td>\n",
       "      <td>CCS - Advanced amines or blends</td>\n",
       "      <td>Ammonia_Process CO2 - Reforming_CCS - Advanced...</td>\n",
       "      <td>Abatement total direct</td>\n",
       "      <td>MtCO2e</td>\n",
       "      <td>0.0</td>\n",
       "      <td>...</td>\n",
       "      <td>0.694148</td>\n",
       "      <td>0.694148</td>\n",
       "      <td>0.694148</td>\n",
       "      <td>0.694148</td>\n",
       "      <td>0.694148</td>\n",
       "      <td>0.694148</td>\n",
       "      <td>0.694148</td>\n",
       "      <td>0.694148</td>\n",
       "      <td>0.694148</td>\n",
       "      <td>0.694148</td>\n",
       "    </tr>\n",
       "  </tbody>\n",
       "</table>\n",
       "<p>5 rows × 40 columns</p>\n",
       "</div>"
      ],
      "text/plain": [
       "          Country    Sector  Subsector Category1 EE_sector  \\\n",
       "0  United Kingdom  Industry  Chemicals             Ammonia   \n",
       "1  United Kingdom  Industry  Chemicals             Ammonia   \n",
       "2  United Kingdom  Industry  Chemicals             Ammonia   \n",
       "3  United Kingdom  Industry  Chemicals             Ammonia   \n",
       "4  United Kingdom  Industry  Chemicals             Ammonia   \n",
       "\n",
       "            Category2 Process                   Category3 Tech  \\\n",
       "0  Combustion CO2 - Reforming                                    \n",
       "1  Combustion CO2 - Reforming  CCS - Advanced amines or blends   \n",
       "2  Combustion CO2 - Reforming            CCS - Calcium Looping   \n",
       "3     Process CO2 - Reforming                                    \n",
       "4     Process CO2 - Reforming  CCS - Advanced amines or blends   \n",
       "\n",
       "                                        Measure Name        Measure Variable  \\\n",
       "0                Ammonia_Combustion CO2 - Reforming_  Abatement total direct   \n",
       "1  Ammonia_Combustion CO2 - Reforming_CCS - Advan...  Abatement total direct   \n",
       "2  Ammonia_Combustion CO2 - Reforming_CCS - Calci...  Abatement total direct   \n",
       "3                   Ammonia_Process CO2 - Reforming_  Abatement total direct   \n",
       "4  Ammonia_Process CO2 - Reforming_CCS - Advanced...  Abatement total direct   \n",
       "\n",
       "  Variable Unit  2020  ...      2041      2042      2043      2044      2045  \\\n",
       "0        MtCO2e   0.0  ...  0.000000  0.000000  0.000000  0.000000  0.000000   \n",
       "1        MtCO2e   0.0  ...  0.245961  0.245905  0.245849  0.245793  0.245738   \n",
       "2        MtCO2e   0.0  ...  0.164822  0.164784  0.164747  0.164709  0.164672   \n",
       "3        MtCO2e   0.0  ...  0.000000  0.000000  0.000000  0.000000  0.000000   \n",
       "4        MtCO2e   0.0  ...  0.694148  0.694148  0.694148  0.694148  0.694148   \n",
       "\n",
       "       2046      2047      2048      2049      2050  \n",
       "0  0.000000  0.000000  0.000000  0.000000  0.000000  \n",
       "1  0.245690  0.245643  0.245595  0.245548  0.245500  \n",
       "2  0.164640  0.164608  0.164576  0.164545  0.164513  \n",
       "3  0.000000  0.000000  0.000000  0.000000  0.000000  \n",
       "4  0.694148  0.694148  0.694148  0.694148  0.694148  \n",
       "\n",
       "[5 rows x 40 columns]"
      ]
     },
     "execution_count": 337,
     "metadata": {},
     "output_type": "execute_result"
    }
   ],
   "source": [
    "sd_df.head()"
   ]
  },
  {
   "cell_type": "code",
   "execution_count": 338,
   "metadata": {},
   "outputs": [],
   "source": [
    "sd_df.to_excel(OUTPUT_FILE, index=False, sheet_name='Measure level data')"
   ]
  },
  {
   "cell_type": "code",
   "execution_count": 339,
   "metadata": {},
   "outputs": [],
   "source": [
    "# write a sheet containing the measure definitions\n",
    "measure_defs_df = pd.DataFrame({\n",
    "    'Sector': pd.Series(sd_df['Sector'].unique()).sort_values(),\n",
    "    'Subsector': pd.Series(sd_df['Subsector'].unique()).sort_values(),\n",
    "    'EE_sector': pd.Series(sd_df['Category1 EE_sector'].unique()).sort_values(),\n",
    "    'Process': pd.Series(sd_df['Category2 Process'].unique()).sort_values(),\n",
    "    'Tech': pd.Series(sd_df['Category3 Tech'].unique()).sort_values(),\n",
    "    'Measure Name': pd.Series(sd_df['Measure Name'].unique()).sort_values(),\n",
    "})\n",
    "\n",
    "with pd.ExcelWriter(OUTPUT_FILE, mode='a') as writer:\n",
    "    measure_defs_df.to_excel(writer, index=False, sheet_name='Measure definitions')\n"
   ]
  },
  {
   "cell_type": "markdown",
   "metadata": {},
   "source": [
    "### Baseline emissions"
   ]
  },
  {
   "cell_type": "code",
   "execution_count": 340,
   "metadata": {},
   "outputs": [],
   "source": [
    "bl_cols = [\n",
    "    {\n",
    "        \"timeseries\": \"Baseline emissions (MtCO2e)\",\n",
    "        \"variable_name\": \"Baseline emissions CO2\",\n",
    "        \"variable_unit\": \"MtCO2\",\n",
    "        \"weight_col\": \"% CARBON Emissions\",\n",
    "    },\n",
    "    {\n",
    "        \"timeseries\": \"Baseline emissions (MtCO2e)\",\n",
    "        \"variable_name\": \"Baseline emissions CH4\",\n",
    "        \"variable_unit\": \"MtCO2e\",\n",
    "        \"weight_col\": \"% CH4 Emissions\",\n",
    "    },\n",
    "    {\n",
    "        \"timeseries\": \"Baseline emissions (MtCO2e)\",\n",
    "        \"variable_name\": \"Baseline emissions N20\",\n",
    "        \"variable_unit\": \"MtCO2e\",\n",
    "        \"weight_col\": \"% N2O Emissions\",\n",
    "    },\n",
    "]"
   ]
  },
  {
   "cell_type": "code",
   "execution_count": 341,
   "metadata": {},
   "outputs": [],
   "source": [
    "bl_df = pd.DataFrame(columns=SD_COLUMNS)\n",
    "for args in bl_cols:\n",
    "    bl_df = pd.concat([bl_df, aggregate_timeseries(df, **args)])\n"
   ]
  },
  {
   "cell_type": "code",
   "execution_count": 342,
   "metadata": {},
   "outputs": [],
   "source": [
    "bl_df = bl_df.groupby(['Country', 'Subsector', 'Measure Variable', 'Variable Unit']).sum(numeric_only=True)\n",
    "bl_df = bl_df.reset_index()\n",
    "with pd.ExcelWriter(OUTPUT_FILE, mode='a') as writer:  \n",
    "    bl_df.to_excel(writer, index=False, sheet_name='Baseline data')"
   ]
  },
  {
   "cell_type": "markdown",
   "metadata": {},
   "source": [
    "### Aggregated outputs"
   ]
  },
  {
   "cell_type": "code",
   "execution_count": 343,
   "metadata": {},
   "outputs": [],
   "source": [
    "agg_df = pd.DataFrame(columns=['Country', 'Measure Variable', 'Variable Unit'] + list(range(START_YEAR, END_YEAR+1)))"
   ]
  },
  {
   "cell_type": "code",
   "execution_count": 344,
   "metadata": {},
   "outputs": [],
   "source": [
    "total_abatement = sd_df.loc[(sd_df['Measure Variable'] == 'Abatement total direct') & (sd_df['Country'] == 'United Kingdom')].sum(numeric_only=True)\n",
    "total_baseline_emissions = bl_df.loc[(bl_df['Measure Variable'] == 'Baseline emissions CO2') & (bl_df['Country'] == 'United Kingdom')].sum(numeric_only=True)\n",
    "total_pathway_emissions = total_baseline_emissions - total_abatement"
   ]
  },
  {
   "cell_type": "code",
   "execution_count": 345,
   "metadata": {},
   "outputs": [],
   "source": [
    "agg_df.loc['Baseline emissions total'] = total_baseline_emissions\n",
    "agg_df.loc['Baseline emissions total', 'Country'] = 'United Kingdom'\n",
    "agg_df.loc['Baseline emissions total', 'Measure Variable'] = 'Baseline emissions total'\n",
    "agg_df.loc['Baseline emissions total', 'Variable Unit'] = 'MtCO2e'\n",
    "\n",
    "agg_df.loc['Direct emissions total'] = total_pathway_emissions\n",
    "agg_df.loc['Direct emissions total', 'Country'] = 'United Kingdom'\n",
    "agg_df.loc['Direct emissions total', 'Measure Variable'] = 'Direct emissions total'\n",
    "agg_df.loc['Direct emissions total', 'Variable Unit'] = 'MtCO2e'\n"
   ]
  },
  {
   "cell_type": "code",
   "execution_count": 349,
   "metadata": {},
   "outputs": [],
   "source": [
    "with pd.ExcelWriter(OUTPUT_FILE, mode='a', if_sheet_exists='replace') as writer:  \n",
    "    agg_df.to_excel(writer, index=False, sheet_name='Aggregate data')"
   ]
  },
  {
   "cell_type": "markdown",
   "metadata": {},
   "source": [
    "## looking at measure definitions"
   ]
  },
  {
   "cell_type": "code",
   "execution_count": 145,
   "metadata": {},
   "outputs": [],
   "source": [
    "industry_measures = set([industry_sectors[i] + '_' + industry_process[i] + '_' + industry_tech[i] for i in range(len(industry_sectors))])\n",
    "nzip_measures = set(df['Element_sector'].astype(str) + '_' + df['Process'].astype(str) + '_' + df['Selected Option'].astype(str))\n",
    "lost = set(industry_measures) - set(nzip_measures)"
   ]
  },
  {
   "cell_type": "code",
   "execution_count": 146,
   "metadata": {},
   "outputs": [
    {
     "data": {
      "text/plain": [
       "(452, 145, 393)"
      ]
     },
     "execution_count": 146,
     "metadata": {},
     "output_type": "execute_result"
    }
   ],
   "source": [
    "len(industry_measures), len(nzip_measures), len(lost)"
   ]
  },
  {
   "cell_type": "code",
   "execution_count": 15,
   "metadata": {},
   "outputs": [],
   "source": [
    "# save list of lost measures to a text file in the same directory as the excel files\n",
    "with open('lost_measures.txt', 'w') as f:\n",
    "    # write using join\n",
    "    f.write('\\n'.join(sorted(lost)))"
   ]
  },
  {
   "cell_type": "code",
   "execution_count": null,
   "metadata": {},
   "outputs": [],
   "source": []
  }
 ],
 "metadata": {
  "kernelspec": {
   "display_name": "base",
   "language": "python",
   "name": "python3"
  },
  "language_info": {
   "codemirror_mode": {
    "name": "ipython",
    "version": 3
   },
   "file_extension": ".py",
   "mimetype": "text/x-python",
   "name": "python",
   "nbconvert_exporter": "python",
   "pygments_lexer": "ipython3",
   "version": "3.11.5"
  }
 },
 "nbformat": 4,
 "nbformat_minor": 2
}
