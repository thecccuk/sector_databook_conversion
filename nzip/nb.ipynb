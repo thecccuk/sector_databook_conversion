{
 "cells": [
  {
   "cell_type": "code",
   "execution_count": 2,
   "metadata": {},
   "outputs": [],
   "source": [
    "import pandas as pd"
   ]
  },
  {
   "cell_type": "code",
   "execution_count": 3,
   "metadata": {},
   "outputs": [],
   "source": [
    "START_YEAR = 2020\n",
    "END_YEAR = 2050\n",
    "DEVOLVED_AUTHS = ['United Kingdom', 'Scotland', 'Wales', 'Northern Ireland']\n",
    "GASES = ['CARBON', 'CH4', 'N2O']"
   ]
  },
  {
   "cell_type": "markdown",
   "metadata": {},
   "source": [
    "### Load data"
   ]
  },
  {
   "cell_type": "markdown",
   "metadata": {},
   "source": [
    "#### Step 1: Get measure definitions"
   ]
  },
  {
   "cell_type": "code",
   "execution_count": 4,
   "metadata": {},
   "outputs": [
    {
     "name": "stderr",
     "output_type": "stream",
     "text": [
      "c:\\Users\\sv000048\\AppData\\Local\\anaconda3\\Lib\\site-packages\\openpyxl\\worksheet\\_read_only.py:79: UserWarning: Data Validation extension is not supported and will be removed\n",
      "  for idx, row in parser.parse():\n"
     ]
    }
   ],
   "source": [
    "industry_model_path = 'Sam Industry Model.xlsx'\n",
    "with open(industry_model_path, 'rb') as f:\n",
    "    measure_defs = pd.read_excel(f, 'Measure definitions', header=12, usecols='B:D')\n",
    "measure_defs = measure_defs.dropna()\n",
    "industry_sectors = measure_defs['EE Sector']\n",
    "industry_process = measure_defs['Process']\n",
    "industry_tech = measure_defs['Abatement Technology']"
   ]
  },
  {
   "cell_type": "markdown",
   "metadata": {},
   "source": [
    "#### Step 2: load NZIP Outputs"
   ]
  },
  {
   "cell_type": "code",
   "execution_count": 5,
   "metadata": {},
   "outputs": [],
   "source": [
    "nzip_path = 'N-ZIP Model - V1.1.xlsb'\n",
    "with open(nzip_path, 'rb') as f:\n",
    "    nzip_df = pd.read_excel(f, 'CCC Outputs', header=10, nrows=0, usecols='F:CWV')\n",
    "cols = nzip_df.columns"
   ]
  },
  {
   "cell_type": "code",
   "execution_count": 6,
   "metadata": {},
   "outputs": [
    {
     "name": "stderr",
     "output_type": "stream",
     "text": [
      "c:\\Users\\sv000048\\AppData\\Local\\anaconda3\\Lib\\site-packages\\openpyxl\\worksheet\\_read_only.py:79: UserWarning: Data Validation extension is not supported and will be removed\n",
      "  for idx, row in parser.parse():\n"
     ]
    }
   ],
   "source": [
    "with open(industry_model_path, 'rb') as f:\n",
    "    col_idxs = range(2, 2+len(cols))\n",
    "    df = pd.read_excel(f, 'DD Outputs', header=9, usecols=list(col_idxs))\n",
    "# correct column names\n",
    "df.columns = cols"
   ]
  },
  {
   "cell_type": "code",
   "execution_count": 7,
   "metadata": {},
   "outputs": [],
   "source": [
    "# fix missing and incorrect values\n",
    "df['% CARBON Emissions'] = pd.to_numeric(df['% CARBON Emissions'], errors='coerce')\n",
    "df['% CH4 Emissions'] = pd.to_numeric(df['% CH4 Emissions'], errors='coerce')\n",
    "df['% N2O Emissions'] = pd.to_numeric(df['% N2O Emissions'], errors='coerce')\n",
    "df['Selected Option'] = df['Selected Option'].fillna('')\n",
    "df = df.fillna(0)"
   ]
  },
  {
   "cell_type": "markdown",
   "metadata": {},
   "source": [
    "### Abatement emissions"
   ]
  },
  {
   "cell_type": "code",
   "execution_count": 8,
   "metadata": {},
   "outputs": [],
   "source": [
    "def sector_databook_format(df, variable_name, variable_unit):\n",
    "    df = df.reset_index()\n",
    "    df['Sector'] = 'Industry'\n",
    "    df['Subsector'] = 'Manufacturing'\n",
    "    df['Measure Name'] = df['Sector'] + '_' + df['Process'] + '_' + df['Selected Option']\n",
    "    df['Measure Variable'] = variable_name\n",
    "    df['Variable Unit'] = variable_unit\n",
    "\n",
    "    # reorder columns\n",
    "    first_cols = ['Country', 'Sector', 'Subsector', 'Measure Name', 'Measure Variable', 'Variable Unit']\n",
    "    df = df[first_cols + sorted(list((set(df.columns) - set(first_cols))))]\n",
    "    df = df.drop(df.columns[-3:], axis=1)\n",
    "    return df\n",
    "\n",
    "def aggregate_timeseries_contry(df, timeseries, variable_name, variable_unit, weight_col=None, country='United Kingdom', scale=None):\n",
    "\n",
    "    # get the emissions time series columns\n",
    "    total_emissions_cols = [f'{timeseries} {y}' for y in range(START_YEAR, END_YEAR+1)]\n",
    "\n",
    "    # get carbon emissions\n",
    "    emissions_cols = list(map(str, range(START_YEAR, END_YEAR+1)))\n",
    "    df[emissions_cols] = df[total_emissions_cols].copy()\n",
    "    if weight_col:\n",
    "        df[emissions_cols] = df[emissions_cols].multiply(df[weight_col], axis=0)\n",
    "    if scale:\n",
    "        df[emissions_cols] = df[emissions_cols] * scale\n",
    "\n",
    "    # sum rows corresponding to the same measure\n",
    "    agg_emissions_df = df.groupby(['Element_sector', 'Process', 'Selected Option'])[emissions_cols].sum()\n",
    "\n",
    "    # remove measures not pertaining to the industry model\n",
    "    row_idxs = [(industry_sectors[i], industry_process[i], industry_tech[i]) for i in range(len(industry_sectors))]\n",
    "    row_idxs = [idx for idx in row_idxs if idx in agg_emissions_df.index]\n",
    "    agg_emissions_df = agg_emissions_df.loc[row_idxs]\n",
    "\n",
    "    # add country column\n",
    "    agg_emissions_df['Country'] = country\n",
    "\n",
    "    # format as sector databook\n",
    "    df = sector_databook_format(agg_emissions_df, variable_name, variable_unit)\n",
    "\n",
    "    return df\n",
    "\n",
    "def aggregate_timeseries(df, **kwargs):\n",
    "    dfs = [aggregate_timeseries_contry(df, country=country, **kwargs) for country in DEVOLVED_AUTHS]\n",
    "    df = pd.concat(dfs)\n",
    "    return df"
   ]
  },
  {
   "cell_type": "code",
   "execution_count": 31,
   "metadata": {},
   "outputs": [],
   "source": [
    "sd_cols = ['Country', 'Sector', 'Subsector', 'Measure Name', 'Measure Variable', 'Variable Unit'] + list(map(str, range(START_YEAR, END_YEAR+1)))\n",
    "sd_df = pd.DataFrame(columns=sd_cols)"
   ]
  },
  {
   "cell_type": "code",
   "execution_count": 32,
   "metadata": {},
   "outputs": [],
   "source": [
    "# add total direct and indirect emissions\n",
    "sd_df = pd.concat([sd_df, aggregate_timeseries(df, timeseries=\"Total direct emissions abated (MtCO2e)\", variable_name='Abatement total direct', variable_unit='MtCO2e')])\n",
    "sd_df = pd.concat([sd_df, aggregate_timeseries(df, timeseries=\"Total indirect emissions abated (MtCO2e)\", variable_name='Abatement total indirect', variable_unit='MtCO2e')])\n",
    "\n",
    "# add broken down emissions\n",
    "sd_df = pd.concat([sd_df, aggregate_timeseries(df, timeseries=\"Total direct emissions abated (MtCO2e)\", variable_name='Abatement emissions CO2', variable_unit='MtCO2', weight_col='% CARBON Emissions')])\n",
    "sd_df = pd.concat([sd_df, aggregate_timeseries(df, timeseries=\"Total direct emissions abated (MtCO2e)\", variable_name='Abatement emissions CH4', variable_unit='MtCO2e', weight_col='% CH4 Emissions')])\n",
    "sd_df = pd.concat([sd_df, aggregate_timeseries(df, timeseries=\"Total direct emissions abated (MtCO2e)\", variable_name='Abatement emissions N20', variable_unit='MtCO2e', weight_col='% N2O Emissions')])"
   ]
  },
  {
   "cell_type": "code",
   "execution_count": 33,
   "metadata": {},
   "outputs": [],
   "source": [
    "# add demand\n",
    "sd_df = pd.concat([sd_df, aggregate_timeseries(df, timeseries=\"Change in electricity use (GWh)\", variable_name='Additional demand electricity', variable_unit='TWh', scale=1e-3)])\n",
    "sd_df = pd.concat([sd_df, aggregate_timeseries(df, timeseries=\"Change in natural gas use (GWh)\", variable_name='Additional demand gas', variable_unit='TWh', scale=1e-3)])\n",
    "sd_df = pd.concat([sd_df, aggregate_timeseries(df, timeseries=\"Change in petroleum use (GWh)\", variable_name='Additional demand petroleum', variable_unit='TWh', scale=1e-3)])\n",
    "sd_df = pd.concat([sd_df, aggregate_timeseries(df, timeseries=\"Change in solid fuel use (GWh)\", variable_name='Additional demand solid fuel', variable_unit='TWh', scale=1e-3)])\n",
    "sd_df = pd.concat([sd_df, aggregate_timeseries(df, timeseries=\"Change in primary bioenergy use (GWh)\", variable_name='Additional demand final bioenergy', variable_unit='TWh', scale=1e-3)])\n",
    "sd_df = pd.concat([sd_df, aggregate_timeseries(df, timeseries=\"Change in hydrogen use (GWh)\", variable_name='Additional demand hydrogen', variable_unit='TWh', scale=1e-3)])"
   ]
  },
  {
   "cell_type": "code",
   "execution_count": 34,
   "metadata": {},
   "outputs": [],
   "source": [
    "# add capex and opex cols\n",
    "for y in range(START_YEAR, END_YEAR+1):\n",
    "    df[f'capex {y}'] = df[f'AM capex (£m) {y}'] - df[f'Counterfactual capex (£m) {y}']\n",
    "    df[f'opex {y}'] = df[f'Total AM costs (£m) {y}'] - (df[f'Counterfactual opex (£m) {y}'] + df[f'Counterfactual fuel costs (£m) {y}'])\n",
    "\n",
    "# note, CB6 sector templates instead use\n",
    "#df['AM opex (£m) 2020'] + df['AM fuel costs 2020'] - (df['Counterfactual opex (£m) 2020'] + df['Counterfactual fuel costs 2020'])"
   ]
  },
  {
   "cell_type": "code",
   "execution_count": 35,
   "metadata": {},
   "outputs": [],
   "source": [
    "sd_df = pd.concat([sd_df, aggregate_timeseries(df, timeseries=\"capex\", variable_name='Additional capital expenditure', variable_unit='£m')])\n",
    "sd_df = pd.concat([sd_df, aggregate_timeseries(df, timeseries=\"opex\", variable_name='Additional operational expenditure', variable_unit='£m')])"
   ]
  },
  {
   "cell_type": "code",
   "execution_count": 37,
   "metadata": {},
   "outputs": [],
   "source": [
    "sd_df.to_excel('sd-test.xlsx', index=False)"
   ]
  },
  {
   "cell_type": "markdown",
   "metadata": {},
   "source": [
    "## looking at measure definitions"
   ]
  },
  {
   "cell_type": "code",
   "execution_count": 13,
   "metadata": {},
   "outputs": [],
   "source": [
    "industry_measures = set([industry_sectors[i] + '_' + industry_process[i] + '_' + industry_tech[i] for i in range(len(industry_sectors))])\n",
    "nzip_measures = set(df['Element_sector'].astype(str) + '_' + df['Process'].astype(str) + '_' + df['Selected Option'].astype(str))\n",
    "lost = set(industry_measures) - set(nzip_measures)"
   ]
  },
  {
   "cell_type": "code",
   "execution_count": 14,
   "metadata": {},
   "outputs": [
    {
     "data": {
      "text/plain": [
       "(452, 180, 365)"
      ]
     },
     "execution_count": 14,
     "metadata": {},
     "output_type": "execute_result"
    }
   ],
   "source": [
    "len(industry_measures), len(nzip_measures), len(lost)"
   ]
  },
  {
   "cell_type": "code",
   "execution_count": 15,
   "metadata": {},
   "outputs": [],
   "source": [
    "# save list of lost measures to a text file in the same directory as the excel files\n",
    "with open('lost_measures.txt', 'w') as f:\n",
    "    # write using join\n",
    "    f.write('\\n'.join(sorted(lost)))"
   ]
  },
  {
   "cell_type": "code",
   "execution_count": null,
   "metadata": {},
   "outputs": [],
   "source": []
  }
 ],
 "metadata": {
  "kernelspec": {
   "display_name": "base",
   "language": "python",
   "name": "python3"
  },
  "language_info": {
   "codemirror_mode": {
    "name": "ipython",
    "version": 3
   },
   "file_extension": ".py",
   "mimetype": "text/x-python",
   "name": "python",
   "nbconvert_exporter": "python",
   "pygments_lexer": "ipython3",
   "version": "3.11.5"
  }
 },
 "nbformat": 4,
 "nbformat_minor": 2
}
